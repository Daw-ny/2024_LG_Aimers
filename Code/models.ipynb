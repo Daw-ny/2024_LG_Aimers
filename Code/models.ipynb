{
 "cells": [
  {
   "cell_type": "code",
   "execution_count": null,
   "metadata": {},
   "outputs": [],
   "source": [
    "### 필요 함수 정의"
   ]
  },
  {
   "cell_type": "code",
   "execution_count": null,
   "metadata": {},
   "outputs": [],
   "source": [
    "def get_clf_eval(y_test, y_pred=None):\n",
    "    confusion = confusion_matrix(y_test, y_pred, labels=[True, False])\n",
    "    accuracy = accuracy_score(y_test, y_pred)\n",
    "    precision = precision_score(y_test, y_pred, labels=[True, False])\n",
    "    recall = recall_score(y_test, y_pred)\n",
    "    F1 = f1_score(y_test, y_pred, labels=[True, False])\n",
    "\n",
    "    print(\"오차행렬:\\n\", confusion)\n",
    "    print(\"\\n정확도: {:.4f}\".format(accuracy))\n",
    "    print(\"정밀도: {:.4f}\".format(precision))\n",
    "    print(\"재현율: {:.4f}\".format(recall))\n",
    "    print(\"F1: {:.4f}\".format(F1))"
   ]
  },
  {
   "cell_type": "code",
   "execution_count": null,
   "metadata": {},
   "outputs": [],
   "source": [
    "### 필수 라이브러리"
   ]
  },
  {
   "cell_type": "code",
   "execution_count": null,
   "metadata": {},
   "outputs": [],
   "source": [
    "import pandas as pd\n",
    "import numpy as np\n",
    "import matplotlib.pyplot as plt\n",
    "\n",
    "from sklearn.metrics import (\n",
    "    accuracy_score,\n",
    "    confusion_matrix,\n",
    "    f1_score,\n",
    "    precision_score,\n",
    "    recall_score,\n",
    ")\n",
    "from sklearn.model_selection import train_test_split\n",
    "from sklearn.tree import DecisionTreeClassifier\n",
    "from catboost import CatBoostClassifier\n",
    "\n",
    "import copy\n",
    "from imblearn.combine import SMOTETomek\n",
    "from imblearn.under_sampling import TomekLinks\n",
    "from imblearn.over_sampling import SMOTE, ADASYN\n",
    "from sklearn.model_selection import train_test_split\n",
    "from category_encoders import TargetEncoder\n",
    "from sklearn.metrics import roc_curve, auc\n",
    "from sklearn.experimental import enable_iterative_imputer\n",
    "from sklearn.impute import IterativeImputer\n",
    "\n",
    "import os\n",
    "import pandas as pd\n",
    "import numpy as np\n",
    "from sklearn.preprocessing import OrdinalEncoder, StandardScaler, OneHotEncoder\n",
    "from sklearn.model_selection import GridSearchCV, StratifiedKFold\n",
    "from sklearn.compose import ColumnTransformer\n",
    "from sklearn.pipeline import Pipeline\n",
    "from sklearn.metrics import mean_squared_error\n",
    "from xgboost import XGBClassifier\n",
    "from lightgbm import LGBMClassifier, plot_metric\n",
    "from catboost import CatBoostClassifier\n",
    "from sklearn.ensemble import VotingClassifier\n",
    "from sklearn.model_selection import KFold\n",
    "from sklearn.model_selection import cross_val_score\n",
    "import optuna\n",
    "import matplotlib.pyplot as plt\n",
    "from sklearn.metrics import make_scorer, f1_score, precision_recall_curve\n",
    "import seaborn as sns\n",
    "import warnings;warnings.filterwarnings('ignore')\n",
    "import eli5\n",
    "from eli5.sklearn import PermutationImportance\n",
    "\n",
    "# regression for stacking model\n",
    "from sklearn.linear_model import LogisticRegression\n",
    "\n",
    "from sklearn.preprocessing import RobustScaler\n",
    "        \n",
    "# ensemble\n",
    "from sklearn.ensemble import VotingClassifier,  RandomForestClassifier, StackingClassifier, ExtraTreesClassifier"
   ]
  },
  {
   "cell_type": "code",
   "execution_count": null,
   "metadata": {},
   "outputs": [],
   "source": [
    "### 데이터셋 읽어오기"
   ]
  },
  {
   "cell_type": "code",
   "execution_count": null,
   "metadata": {},
   "outputs": [],
   "source": [
    "df_train = pd.read_csv('new_imputation_train_ddd.csv')\n",
    "df_test = pd.read_csv('new_imputation_test_ddd.csv')"
   ]
  },
  {
   "cell_type": "code",
   "execution_count": null,
   "metadata": {},
   "outputs": [],
   "source": [
    "# 데이터 추가 처리"
   ]
  },
  {
   "cell_type": "code",
   "execution_count": null,
   "metadata": {},
   "outputs": [],
   "source": [
    "# self label encoding\n",
    "con = [\n",
    "    df_train['expected_timeline'] == 'others',\n",
    "    df_train['expected_timeline'] == 'no_answer',\n",
    "    df_train['expected_timeline'] == 'less_than_3_months',\n",
    "    df_train['expected_timeline'] == '3_months_6_months',\n",
    "    df_train['expected_timeline'] == '6_months_9_months',\n",
    "    df_train['expected_timeline'] == '9_months_1_year'\n",
    "]\n",
    "cri = [\n",
    "    -1, 0, 1, 2, 2, 2\n",
    "]\n",
    "df_train['timeline_label'] = np.select(con, cri, default = 3)"
   ]
  },
  {
   "cell_type": "code",
   "execution_count": null,
   "metadata": {},
   "outputs": [],
   "source": [
    "# self label encoding\n",
    "con = [\n",
    "    df_test['expected_timeline'] == 'others',\n",
    "    df_test['expected_timeline'] == 'no_answer',\n",
    "    df_test['expected_timeline'] == 'less_than_3_months',\n",
    "    df_test['expected_timeline'] == '3_months_6_months',\n",
    "    df_test['expected_timeline'] == '6_months_9_months',\n",
    "    df_test['expected_timeline'] == '9_months_1_year'\n",
    "]\n",
    "cri = [\n",
    "    -1, 0, 1, 2, 2, 2\n",
    "]\n",
    "df_test['timeline_label'] = np.select(con, cri, default = 3)"
   ]
  },
  {
   "cell_type": "code",
   "execution_count": null,
   "metadata": {},
   "outputs": [],
   "source": [
    "df_train['bant_submit'] = (df_train['bant_submit']*4).astype(int)\n",
    "df_test['bant_submit'] = (df_test['bant_submit']*4).astype(int)"
   ]
  },
  {
   "cell_type": "code",
   "execution_count": null,
   "metadata": {},
   "outputs": [],
   "source": [
    "# business_unit CM을 IT에 포함\n",
    "# CM이 2건밖에 없으므로 가장 관련있는 부서와 함께 묶어넣기\n",
    "df_train['business_unit'][df_train['business_unit'] == 'CM'] = 'IT'\n",
    "df_test['business_unit'][df_test['business_unit'] == 'CM'] = 'IT'"
   ]
  },
  {
   "cell_type": "code",
   "execution_count": null,
   "metadata": {},
   "outputs": [],
   "source": [
    "# 개수가 적은 값을 others로 같이 넣기 -> 학습 시켜서 분류하는데 도음이 되지 않음\n",
    "# 20개 이하는 모조리 같이 묶어버리자\n",
    "choose_low_category = [\n",
    "    'customer_country', 'customer_type', 'customer_job', 'inquiry_type',\n",
    "    'product_category', 'business_subarea'\n",
    "]\n",
    "\n",
    "other_name = [\n",
    "    'Others', 'Other', 'Others', 'others', 'others', 'Others'\n",
    "]\n",
    "\n",
    "cnt = [\n",
    "    10, 10, 10, 10, 10, 10\n",
    "]\n",
    "\n",
    "for c, i in enumerate(choose_low_category):\n",
    "    frequency = df_train[i].value_counts()\n",
    "    low_frequency_categories = frequency[frequency <= cnt[c]].index\n",
    "    df_train[i] = df_train[i].apply(lambda x: other_name[c] if x in low_frequency_categories else x)\n",
    "    df_test[i] = df_test[i].apply(lambda x: other_name[c] if x in low_frequency_categories else x)"
   ]
  },
  {
   "cell_type": "code",
   "execution_count": null,
   "metadata": {},
   "outputs": [],
   "source": [
    "# ver_win_ratio_per_bu\n",
    "data_merge1 = (df_train.groupby(['business_area', 'business_unit']).sum()['is_converted']/df_train.groupby(['business_area', 'business_unit']).count()['is_converted']).reset_index()\n",
    "data_merge1.columns = ['business_area', 'business_unit', 'ver_win_ratio_per_bu']\n",
    "\n",
    "# com_reg_ver_win_rate\n",
    "data_merge2 = (df_train.groupby(['business_area', 'business_unit', 'continent']).sum()['is_converted']/df_train.groupby(['business_area', 'business_unit', 'continent']).count()['is_converted']).reset_index()\n",
    "data_merge2.columns = ['business_area', 'business_unit', 'continent', 'com_reg_ver_win_rate']\n",
    "\n",
    "# ver_win_rate_x\n",
    "a1 = df_train['business_area'].value_counts()/len(df_train)\n",
    "a2 = df_train.groupby(['business_area'])['is_converted'].mean()\n",
    "data_merge3 = (a1 * a2).reset_index()\n",
    "data_merge3.columns = ['business_area', 'ver_win_rate_x']"
   ]
  },
  {
   "cell_type": "code",
   "execution_count": null,
   "metadata": {},
   "outputs": [],
   "source": [
    "# `bant_submit`과 `expected_timeline`을 기준으로 그룹화한 후, 각 그룹별 전환율 계산\n",
    "grouped = df_train.groupby(['bant_submit', 'expected_timeline']).agg(\n",
    "    conversions=('is_converted', 'sum'),\n",
    "    total=('is_converted', 'count')\n",
    ")\n",
    "grouped['conversion_rate'] = grouped['conversions'] / grouped['total']\n",
    "\n",
    "# 전환율을 데이터프레임으로 리셋\n",
    "conversion_rates = grouped.reset_index()[['bant_submit', 'expected_timeline', 'conversion_rate']]\n",
    "\n",
    "# 훈련 및 테스트 데이터셋에 전환율 정보를 병합\n",
    "df_train = pd.merge(df_train, conversion_rates, on=['bant_submit', 'expected_timeline'], how='left')\n",
    "df_test = pd.merge(df_test, conversion_rates, on=['bant_submit', 'expected_timeline'], how='left')"
   ]
  },
  {
   "cell_type": "code",
   "execution_count": null,
   "metadata": {},
   "outputs": [],
   "source": [
    "# 결합할 데이터 새로 끼워넣기 위해 \n",
    "df_train.drop(['ver_win_ratio_per_bu', 'com_reg_ver_win_rate', 'ver_win_rate_x', 'expected_timeline'], axis = 1, inplace = True)\n",
    "df_test.drop(['ver_win_ratio_per_bu', 'com_reg_ver_win_rate', 'ver_win_rate_x', 'expected_timeline'], axis = 1, inplace = True)"
   ]
  },
  {
   "cell_type": "code",
   "execution_count": null,
   "metadata": {},
   "outputs": [],
   "source": [
    "# 하나씩 결합 고\n",
    "tmp = pd.merge(df_train, data_merge1, how = 'left', on = ['business_area', 'business_unit'])\n",
    "tmp2 = pd.merge(tmp, data_merge2, how = 'left', on = ['business_area', 'business_unit', 'continent'])\n",
    "df_train = pd.merge(tmp2, data_merge3, how = 'left', on = ['business_area'])\n",
    "\n",
    "# 하나씩 결합 고\n",
    "tmp = pd.merge(df_test, data_merge1, how = 'left', on = ['business_area', 'business_unit'])\n",
    "tmp2 = pd.merge(tmp, data_merge2, how = 'left', on = ['business_area', 'business_unit', 'continent'])\n",
    "df_test = pd.merge(tmp2, data_merge3, how = 'left', on = ['business_area'])"
   ]
  },
  {
   "cell_type": "code",
   "execution_count": null,
   "metadata": {},
   "outputs": [],
   "source": [
    "### Label Encoding"
   ]
  },
  {
   "cell_type": "code",
   "execution_count": null,
   "metadata": {},
   "outputs": [],
   "source": [
    "def label_encoding(series: pd.Series) -> pd.Series:\n",
    "    \"\"\"범주형 데이터를 시리즈 형태로 받아 숫자형 데이터로 변환합니다.\"\"\"\n",
    "\n",
    "    my_dict = {}\n",
    "\n",
    "    # 모든 요소를 문자열로 변환\n",
    "    series = series.astype(str)\n",
    "\n",
    "    for idx, value in enumerate(sorted(series.unique())):\n",
    "        my_dict[value] = idx\n",
    "    series = series.map(my_dict)\n",
    "\n",
    "    return series"
   ]
  },
  {
   "cell_type": "code",
   "execution_count": null,
   "metadata": {},
   "outputs": [],
   "source": [
    "# 레이블 인코딩할 칼럼들\n",
    "label_columns = [\n",
    "    'customer_country',\n",
    "    'business_unit',\n",
    "    'customer_type',\n",
    "    'enterprise',\n",
    "    'customer_job',\n",
    "    'inquiry_type',\n",
    "    'product_category',\n",
    "    'response_corporate',\n",
    "    'business_area',\n",
    "    'business_subarea',\n",
    "    'lead_owner',\n",
    "    'continent'\n",
    "]\n",
    "\n",
    "df_all = pd.concat([df_train[label_columns], df_test[label_columns]])\n",
    "\n",
    "for col in label_columns:\n",
    "    df_all[col] = label_encoding(df_all[col])\n",
    "    \n",
    "for col in label_columns:  \n",
    "    df_train[col] = df_all.iloc[: len(df_train)][col]\n",
    "    df_test[col] = df_all.iloc[len(df_train) :][col]"
   ]
  },
  {
   "cell_type": "code",
   "execution_count": null,
   "metadata": {},
   "outputs": [],
   "source": [
    "### 직접 계산하기"
   ]
  },
  {
   "cell_type": "code",
   "execution_count": null,
   "metadata": {},
   "outputs": [],
   "source": [
    "# # 0을 근사값으로 대치\n",
    "# df_train[['ver_win_ratio_per_bu', 'ver_win_rate_x', 'com_reg_ver_win_rate', 'historical_existing_cnt']] = df_train[['ver_win_ratio_per_bu', 'ver_win_rate_x', 'com_reg_ver_win_rate', 'historical_existing_cnt']].replace(0, 1e-12)\n",
    "# df_test[['ver_win_ratio_per_bu', 'ver_win_rate_x', 'com_reg_ver_win_rate', 'historical_existing_cnt']] = df_test[['ver_win_ratio_per_bu', 'ver_win_rate_x', 'com_reg_ver_win_rate', 'historical_existing_cnt']].replace(0, 1e-12)\n",
    "\n",
    "# df_train[['ver_win_ratio_per_bu', 'ver_win_rate_x', 'com_reg_ver_win_rate']] = df_train[['ver_win_ratio_per_bu', 'ver_win_rate_x', 'com_reg_ver_win_rate']].replace(1, 1 - 1e-12)\n",
    "# df_test[['ver_win_ratio_per_bu', 'ver_win_rate_x', 'com_reg_ver_win_rate']] = df_test[['ver_win_ratio_per_bu', 'ver_win_rate_x', 'com_reg_ver_win_rate']].replace(1, 1 - 1e-12)"
   ]
  },
  {
   "cell_type": "code",
   "execution_count": null,
   "metadata": {},
   "outputs": [],
   "source": [
    "# # logit으로 범위 변형\n",
    "# df_train[['ver_win_ratio_per_bu', 'ver_win_rate_x', 'com_reg_ver_win_rate']] = np.log(df_train[['ver_win_ratio_per_bu', 'ver_win_rate_x', 'com_reg_ver_win_rate']] / (1 - df_train[['ver_win_ratio_per_bu', 'ver_win_rate_x', 'com_reg_ver_win_rate']]))\n",
    "# df_test[['ver_win_ratio_per_bu', 'ver_win_rate_x', 'com_reg_ver_win_rate']] = np.log(df_test[['ver_win_ratio_per_bu', 'ver_win_rate_x', 'com_reg_ver_win_rate']] / (1 - df_test[['ver_win_ratio_per_bu', 'ver_win_rate_x', 'com_reg_ver_win_rate']]))"
   ]
  },
  {
   "cell_type": "code",
   "execution_count": null,
   "metadata": {},
   "outputs": [],
   "source": [
    "# # log로 범위 변형\n",
    "# df_train['historical_existing_cnt'] = np.log(df_train['historical_existing_cnt'])\n",
    "# df_test['historical_existing_cnt'] = np.log(df_test['historical_existing_cnt'])"
   ]
  },
  {
   "cell_type": "code",
   "execution_count": null,
   "metadata": {},
   "outputs": [],
   "source": [
    "# # IterativeImputer 객체 생성\n",
    "# imputer = IterativeImputer(max_iter=10, random_state=42)  # 적절한 max_iter 값 설정\n",
    "\n",
    "# # 데이터에 결측치 대치\n",
    "# df_train[df_train.columns.difference(['is_converted'])] = imputer.fit_transform(df_train[df_train.columns.difference(['is_converted'])])\n",
    "\n",
    "# # test\n",
    "# df_test[df_test.columns.difference(['id', 'is_converted'])] = imputer.transform(df_test[df_test.columns.difference(['id', 'is_converted'])])"
   ]
  },
  {
   "cell_type": "code",
   "execution_count": null,
   "metadata": {},
   "outputs": [],
   "source": [
    "# # 로짓의 역변환\n",
    "# df_train[['ver_win_ratio_per_bu', 'ver_win_rate_x', 'com_reg_ver_win_rate']] = 1 / (1 + np.exp(-df_train[['ver_win_ratio_per_bu', 'ver_win_rate_x', 'com_reg_ver_win_rate']]))\n",
    "# df_test[['ver_win_ratio_per_bu', 'ver_win_rate_x', 'com_reg_ver_win_rate']] = 1 / (1 + np.exp(-df_test[['ver_win_ratio_per_bu', 'ver_win_rate_x', 'com_reg_ver_win_rate']]))"
   ]
  },
  {
   "cell_type": "code",
   "execution_count": null,
   "metadata": {},
   "outputs": [],
   "source": [
    "# # 지수변환\n",
    "# df_train['historical_existing_cnt'] = np.exp(df_train['historical_existing_cnt'])\n",
    "# df_test['historical_existing_cnt'] = np.exp(df_test['historical_existing_cnt'])"
   ]
  },
  {
   "cell_type": "code",
   "execution_count": null,
   "metadata": {},
   "outputs": [],
   "source": [
    "# # 근사값 원래대로 돌리기\n",
    "# df_train[['ver_win_ratio_per_bu', 'ver_win_rate_x', 'com_reg_ver_win_rate', 'historical_existing_cnt']] = df_train[['ver_win_ratio_per_bu', 'ver_win_rate_x', 'com_reg_ver_win_rate', 'historical_existing_cnt']].replace(1e-12, 0)\n",
    "# df_test[['ver_win_ratio_per_bu', 'ver_win_rate_x', 'com_reg_ver_win_rate', 'historical_existing_cnt']] = df_test[['ver_win_ratio_per_bu', 'ver_win_rate_x', 'com_reg_ver_win_rate', 'historical_existing_cnt']].replace(1e-12, 0)\n",
    "\n",
    "# df_train[['ver_win_ratio_per_bu', 'ver_win_rate_x', 'com_reg_ver_win_rate']] = df_train[['ver_win_ratio_per_bu', 'ver_win_rate_x', 'com_reg_ver_win_rate']].replace(1 - 1e-12, 1)\n",
    "# df_test[['ver_win_ratio_per_bu', 'ver_win_rate_x', 'com_reg_ver_win_rate']] = df_test[['ver_win_ratio_per_bu', 'ver_win_rate_x', 'com_reg_ver_win_rate']].replace(1 - 1e-12, 1)"
   ]
  },
  {
   "cell_type": "code",
   "execution_count": null,
   "metadata": {},
   "outputs": [],
   "source": [
    "### 변수 이상한것들 다 쳐내"
   ]
  },
  {
   "cell_type": "code",
   "execution_count": null,
   "metadata": {},
   "outputs": [],
   "source": [
    "categorical_features = [\n",
    "    'bant_submit',\n",
    "    'customer_country',\n",
    "    'business_unit',\n",
    "    'customer_idx',\n",
    "    'customer_type',\n",
    "    'enterprise',\n",
    "    'id_strategic_ver',\n",
    "    'it_strategic_ver',\n",
    "    'idit_strategic_ver',\n",
    "    'customer_job',\n",
    "    'inquiry_type',\n",
    "    'product_category',\n",
    "    'response_corporate',\n",
    "    'ver_cus',\n",
    "    'ver_pro',\n",
    "    'business_area',\n",
    "    'business_subarea',\n",
    "    'lead_owner',\n",
    "    'continent',\n",
    "    'fan_mae_king_yn',\n",
    "    'country_to_product',\n",
    "    'partnership',\n",
    "    'move_corporate'\n",
    "]"
   ]
  },
  {
   "cell_type": "code",
   "execution_count": null,
   "metadata": {},
   "outputs": [],
   "source": [
    "# historical_existing_cnt\n",
    "df_train['historical_existing_cnt'] = df_train['historical_existing_cnt'].fillna(0)\n",
    "df_test['historical_existing_cnt'] = df_test['historical_existing_cnt'].fillna(0)"
   ]
  },
  {
   "cell_type": "code",
   "execution_count": null,
   "metadata": {},
   "outputs": [],
   "source": [
    "# 0, 1로 되는건 전부 int형으로 바꿔줘야 함\n",
    "for i in categorical_features:\n",
    "    if df_train[i].dtypes == 'float64':\n",
    "        df_train[i] = df_train[i].astype('int64')\n",
    "        df_test[i] = df_test[i].astype('int64')\n",
    "        \n",
    "# 추가적으로 int로 바꿔줘야 하는것들 다 바꾸기\n",
    "df_train['historical_existing_cnt'] = df_train['historical_existing_cnt'].astype('int64')\n",
    "df_test['historical_existing_cnt'] = df_test['historical_existing_cnt'].astype('int64')\n",
    "\n",
    "df_train['lead_desc_length'] = df_train['lead_desc_length'].astype('int64')\n",
    "df_test['lead_desc_length'] = df_test['lead_desc_length'].astype('int64')\n",
    "\n",
    "df_train['timeline_label'] = df_train['timeline_label'].astype('int64')\n",
    "df_test['timeline_label'] = df_test['timeline_label'].astype('int64')"
   ]
  },
  {
   "cell_type": "code",
   "execution_count": null,
   "metadata": {},
   "outputs": [],
   "source": [
    "# is_converted 제외하고 모두 같은값이지만 두개의 값 전부 가지고 있음\n",
    "# True2 False1이므로 강제로 True로 바꿔주기\n",
    "# 나머지는 True, False 통일되어있음\n",
    "df_train['is_converted'][df_train.index == 31692] = True"
   ]
  },
  {
   "cell_type": "code",
   "execution_count": null,
   "metadata": {},
   "outputs": [],
   "source": [
    "# 모델링 준비"
   ]
  },
  {
   "cell_type": "code",
   "execution_count": null,
   "metadata": {},
   "outputs": [],
   "source": [
    "### 학습 데이터 분리"
   ]
  },
  {
   "cell_type": "code",
   "execution_count": null,
   "metadata": {},
   "outputs": [],
   "source": [
    "# # 마지막으로 버릴 변수 버리기\n",
    "# df_train.drop(['business_area', 'idit_strategic_ver', 'historical_existing_cnt', 'lead_desc_length', 'bant_submit'], axis = 1, inplace = True)\n",
    "# df_test.drop(['business_area', 'idit_strategic_ver', 'historical_existing_cnt', 'lead_desc_length', 'bant_submit'], axis = 1, inplace = True)"
   ]
  },
  {
   "cell_type": "code",
   "execution_count": null,
   "metadata": {},
   "outputs": [],
   "source": [
    "# 숫자형 robust scaler\n",
    "rob = RobustScaler()"
   ]
  },
  {
   "cell_type": "code",
   "execution_count": null,
   "metadata": {},
   "outputs": [],
   "source": [
    "# 적용시킬 변수 가져오기\n",
    "numeric_features = []\n",
    "for j, k in zip(df_train.dtypes, df_train.columns):\n",
    "    if j == 'float64' or k in ['historical_existing_cnt', 'lead_desc_length']:\n",
    "        numeric_features.append(k)"
   ]
  },
  {
   "cell_type": "code",
   "execution_count": null,
   "metadata": {},
   "outputs": [],
   "source": [
    "# robust\n",
    "df_train[numeric_features] = rob.fit_transform(df_train[numeric_features])\n",
    "df_test[numeric_features] = rob.transform(df_test[numeric_features])"
   ]
  },
  {
   "cell_type": "code",
   "execution_count": null,
   "metadata": {},
   "outputs": [],
   "source": [
    "X = df_train.drop(\"is_converted\", axis=1)\n",
    "y = df_train['is_converted']\n",
    "\n",
    "X_train, X_val, y_train, y_val = train_test_split(\n",
    "    X,\n",
    "    y,\n",
    "    test_size=0.1,\n",
    "    shuffle=True,\n",
    "    stratify = y,\n",
    "    random_state=42,\n",
    ")"
   ]
  },
  {
   "cell_type": "code",
   "execution_count": null,
   "metadata": {},
   "outputs": [],
   "source": [
    "# smote = SMOTE(sampling_strategy='auto', random_state=42)\n",
    "# X_train, y_train = smote.fit_resample(X_train, y_train)"
   ]
  },
  {
   "cell_type": "code",
   "execution_count": null,
   "metadata": {},
   "outputs": [],
   "source": [
    "for cat_feature in categorical_features:\n",
    "    if cat_feature in X_train.columns:\n",
    "        X_train[cat_feature] = X_train[cat_feature].astype('category')\n",
    "        X_val[cat_feature] = X_val[cat_feature].astype('category')"
   ]
  },
  {
   "cell_type": "code",
   "execution_count": null,
   "metadata": {},
   "outputs": [],
   "source": [
    "df_train.describe()"
   ]
  },
  {
   "cell_type": "code",
   "execution_count": null,
   "metadata": {},
   "outputs": [],
   "source": [
    "# 모델 학습"
   ]
  },
  {
   "cell_type": "code",
   "execution_count": null,
   "metadata": {},
   "outputs": [],
   "source": [
    "# f1 score\n",
    "f1_scorer = make_scorer(f1_score, pos_label=1, average = 'binary')"
   ]
  },
  {
   "cell_type": "code",
   "execution_count": null,
   "metadata": {},
   "outputs": [],
   "source": [
    "### n_trials 공통으로 정하기\n",
    "n_trial = 30\n",
    "seed = 42\n",
    "n_split = 10"
   ]
  },
  {
   "cell_type": "code",
   "execution_count": null,
   "metadata": {},
   "outputs": [],
   "source": [
    "### 1. LGBM"
   ]
  },
  {
   "cell_type": "code",
   "execution_count": null,
   "metadata": {},
   "outputs": [],
   "source": [
    "def objective(trial):\n",
    "    params = {\n",
    "        'boosting_type' : trial.suggest_categorical('boosting_type', ['gbdt', 'dart', 'rf']),\n",
    "        'n_estimators' : trial.suggest_int('n_estimators', 100, 1000),\n",
    "        \"max_depth\":trial.suggest_int('max_depth', 3, 10),\n",
    "        \"learning_rate\" : trial.suggest_float('learning_rate',1e-2, 0.1, log=True), \n",
    "        'reg_alpha': trial.suggest_float('reg_alpha', 1e-5, 1, log=True),\n",
    "        'reg_lambda': trial.suggest_float('reg_lambda', 1e-5, 10, log=True),\n",
    "        \"min_child_weight\" : trial.suggest_float('min_child_weight', 1, 20),\n",
    "        \"min_child_samples\" : trial.suggest_int('min_child_samples', 1, 50),\n",
    "        \"subsample\" : trial.suggest_float('subsample', 0.6, 0.9),\n",
    "        \"subsample_freq\" : trial.suggest_int('subsample_freq', 0, 5),\n",
    "        \"colsample_bytree\" : trial.suggest_float('colsample_bytree', 0.6, 0.9),\n",
    "        'num_leaves' : trial.suggest_int('num_leaves', 2, 64),\n",
    "        'n_jobs' : -1,\n",
    "        'class_weight' : {True: 9, False: 1}\n",
    "    }\n",
    "\n",
    "    model = LGBMClassifier(**params, device = 'cpu', random_state=seed, verbose=-1)\n",
    "\n",
    "    # KFold : 회귀모델 / StratifiedKFold : 분류모델\n",
    "    skf = StratifiedKFold(n_splits=n_split, shuffle=True, random_state=seed)\n",
    "    cv = cross_val_score(model, X_train, y_train, scoring=f1_scorer,cv=skf).mean()\n",
    "    \n",
    "    return cv"
   ]
  },
  {
   "cell_type": "code",
   "execution_count": null,
   "metadata": {},
   "outputs": [],
   "source": [
    "%%time\n",
    "study_lgbm = optuna.create_study(direction=\"maximize\")\n",
    "study_lgbm.optimize(objective, n_trials=n_trial)"
   ]
  },
  {
   "cell_type": "code",
   "execution_count": null,
   "metadata": {},
   "outputs": [],
   "source": [
    "print('Best trial: score {}, \\nparams {}'.format(study_lgbm.best_trial.value,\n",
    "                                                 study_lgbm.best_trial.params))\n",
    "\n",
    "# Best trial: score 0.86819626880691, \n",
    "# params {'boosting_type': 'gbdt', 'n_estimators': 757, 'max_depth': 9, 'learning_rate': 0.059966739514413524, 'reg_alpha': 0.037751355862792976, 'reg_lambda': 0.00010263802073907619, 'min_child_weight': 11.59612675536348, 'min_child_samples': 16, 'subsample': 0.7646796348565887, 'subsample_freq': 1, 'colsample_bytree': 0.8673855331452011, 'num_leaves': 49}"
   ]
  },
  {
   "cell_type": "code",
   "execution_count": null,
   "metadata": {},
   "outputs": [],
   "source": [
    "### 학습"
   ]
  },
  {
   "cell_type": "code",
   "execution_count": null,
   "metadata": {},
   "outputs": [],
   "source": [
    "best_params_lgbm = study_lgbm.best_params\n",
    "best_model_lgbm = LGBMClassifier(**best_params_lgbm, random_state=seed)\n",
    "best_model_lgbm.fit(X_train, y_train)"
   ]
  },
  {
   "cell_type": "code",
   "execution_count": null,
   "metadata": {},
   "outputs": [],
   "source": [
    "# 위 feature importance를 시각화해봅니다.\n",
    "importances_lgbm = pd.Series(best_model_lgbm.feature_importances_, index=list(X_train.columns))\n",
    "importances_lgbm = importances_lgbm.sort_values(ascending=False)\n",
    "\n",
    "plt.figure(figsize=(10,8))\n",
    "plt.title(\"Feature Importances\")\n",
    "sns.barplot(x=importances_lgbm, y=importances_lgbm.index)\n",
    "plt.show()"
   ]
  },
  {
   "cell_type": "code",
   "execution_count": null,
   "metadata": {},
   "outputs": [],
   "source": [
    "y_pred_proba_lgbm = best_model_lgbm.predict_proba(X_val)[:, 1]"
   ]
  },
  {
   "cell_type": "code",
   "execution_count": null,
   "metadata": {},
   "outputs": [],
   "source": [
    "fpr_lgbm, tpr_lgbm, thresholds_lgbm = roc_curve(y_val, y_pred_proba_lgbm)"
   ]
  },
  {
   "cell_type": "code",
   "execution_count": null,
   "metadata": {},
   "outputs": [],
   "source": [
    "# ROC 곡선 그리기\n",
    "plt.figure()\n",
    "plt.plot(fpr_lgbm, tpr_lgbm, label='ROC curve (area = %0.2f)' % auc(fpr_lgbm, tpr_lgbm))\n",
    "plt.plot([0, 1], [0, 1], 'k--')\n",
    "plt.xlim([0.0, 1.0])\n",
    "plt.ylim([0.0, 1.01])\n",
    "plt.xlabel('False Positive Rate')\n",
    "plt.ylabel('True Positive Rate')\n",
    "plt.title('ROC Curve')\n",
    "plt.legend(loc=\"lower right\")\n",
    "plt.show()"
   ]
  },
  {
   "cell_type": "code",
   "execution_count": null,
   "metadata": {},
   "outputs": [],
   "source": [
    "# 적정 임계값 찾기\n",
    "optimal_idx_lgbm = np.argmax(tpr_lgbm - fpr_lgbm)\n",
    "optimal_threshold_lgbm = thresholds_lgbm[optimal_idx_lgbm]\n",
    "print(\"Optimal threshold:\", optimal_threshold_lgbm)"
   ]
  },
  {
   "cell_type": "code",
   "execution_count": null,
   "metadata": {},
   "outputs": [],
   "source": [
    "y_pred_custom_threshold_lgbm = (y_pred_proba_lgbm >= optimal_threshold_lgbm).astype(int)"
   ]
  },
  {
   "cell_type": "code",
   "execution_count": null,
   "metadata": {},
   "outputs": [],
   "source": [
    "### 기본 쓰레스홀드\n",
    "pred_lgbm = best_model_lgbm.predict(X_val)\n",
    "get_clf_eval(y_val, pred_lgbm)"
   ]
  },
  {
   "cell_type": "code",
   "execution_count": null,
   "metadata": {},
   "outputs": [],
   "source": [
    "### 최적 쓰레스홀드\n",
    "get_clf_eval(y_val, y_pred_custom_threshold_lgbm)"
   ]
  },
  {
   "cell_type": "code",
   "execution_count": null,
   "metadata": {},
   "outputs": [],
   "source": [
    "### 2. ET"
   ]
  },
  {
   "cell_type": "code",
   "execution_count": null,
   "metadata": {},
   "outputs": [],
   "source": [
    "# optuna 학습 메소드 선언\n",
    "def objective_ET(trial, X, y):\n",
    "    param = {\n",
    "        'n_estimators': trial.suggest_int('n_estimators', 100, 1000),\n",
    "        'max_depth': trial.suggest_int('max_depth', 3, 10),\n",
    "        'min_samples_split': trial.suggest_int('min_samples_split', 2, 20),\n",
    "        'min_samples_leaf': trial.suggest_int('min_samples_leaf', 1, 10),\n",
    "        'max_features': trial.suggest_uniform('max_features', 0.1, 1.0),\n",
    "        'bootstrap': trial.suggest_categorical('bootstrap', [True, False]),\n",
    "        'criterion': trial.suggest_categorical('criterion', ['gini', 'entropy']),\n",
    "        'min_impurity_decrease': trial.suggest_float('min_impurity_decrease', 0.0, 0.2),\n",
    "        'class_weight' : {True: 9, False: 1}\n",
    "    }\n",
    "    model = ExtraTreesClassifier(**param)\n",
    "    \n",
    "    # KFold : 회귀모델 / StratifiedKFold : 분류모델\n",
    "    skf = StratifiedKFold(n_splits=n_split, shuffle=True, random_state=seed)\n",
    "    cv = cross_val_score(model, X, y, scoring=f1_scorer, cv=skf).mean()\n",
    "    \n",
    "    return cv"
   ]
  },
  {
   "cell_type": "code",
   "execution_count": null,
   "metadata": {},
   "outputs": [],
   "source": [
    "%%time\n",
    "study_et = optuna.create_study(study_name='ET', direction=\"maximize\")\n",
    "study_et.optimize(lambda trial: objective_ET(trial, X_train, y_train),\n",
    "                  n_trials = n_trial)"
   ]
  },
  {
   "cell_type": "code",
   "execution_count": null,
   "metadata": {},
   "outputs": [],
   "source": [
    "# print하자\n",
    "print('Best trial: score {}, \\nparams {}'.format(study_et.best_trial.value,\n",
    "                                                 study_et.best_trial.params))"
   ]
  },
  {
   "cell_type": "code",
   "execution_count": null,
   "metadata": {},
   "outputs": [],
   "source": [
    "# best models for rf\n",
    "best_params_et = study_et.best_params\n",
    "best_model_et = ExtraTreesClassifier(**best_params_et, random_state=42)\n",
    "best_model_et.fit(X_train, y_train)"
   ]
  },
  {
   "cell_type": "code",
   "execution_count": null,
   "metadata": {},
   "outputs": [],
   "source": [
    "# 위 feature importance를 시각화해봅니다.\n",
    "importances_et = pd.Series(best_model_et.feature_importances_, index=list(X_train.columns))\n",
    "importances_et = importances_et.sort_values(ascending=False)\n",
    "\n",
    "plt.figure(figsize=(10,8))\n",
    "plt.title(\"Feature Importances\")\n",
    "sns.barplot(x=importances_et, y=importances_et.index)\n",
    "plt.show()"
   ]
  },
  {
   "cell_type": "code",
   "execution_count": null,
   "metadata": {},
   "outputs": [],
   "source": [
    "y_pred_proba_et = best_model_et.predict_proba(X_val)[:, 1]"
   ]
  },
  {
   "cell_type": "code",
   "execution_count": null,
   "metadata": {},
   "outputs": [],
   "source": [
    "fpr_et, tpr_et, thresholds_et = roc_curve(y_val, y_pred_proba_et)"
   ]
  },
  {
   "cell_type": "code",
   "execution_count": null,
   "metadata": {},
   "outputs": [],
   "source": [
    "# ROC 곡선 그리기\n",
    "plt.figure()\n",
    "plt.plot(fpr_et, tpr_et, label='ROC curve (area = %0.2f)' % auc(fpr_et, tpr_et))\n",
    "plt.plot([0, 1], [0, 1], 'k--')\n",
    "plt.xlim([0.0, 1.0])\n",
    "plt.ylim([0.0, 1.01])\n",
    "plt.xlabel('False Positive Rate')\n",
    "plt.ylabel('True Positive Rate')\n",
    "plt.title('ROC Curve')\n",
    "plt.legend(loc=\"lower right\")\n",
    "plt.show()"
   ]
  },
  {
   "cell_type": "code",
   "execution_count": null,
   "metadata": {},
   "outputs": [],
   "source": [
    "# 적정 임계값 찾기\n",
    "optimal_idx_et = np.argmax(tpr_et - fpr_et)\n",
    "optimal_threshold_et = thresholds_et[optimal_idx_et]\n",
    "print(\"Optimal threshold:\", optimal_threshold_et)"
   ]
  },
  {
   "cell_type": "code",
   "execution_count": null,
   "metadata": {},
   "outputs": [],
   "source": [
    "y_pred_custom_threshold_et = (y_pred_proba_et >= optimal_threshold_et).astype(int)"
   ]
  },
  {
   "cell_type": "code",
   "execution_count": null,
   "metadata": {},
   "outputs": [],
   "source": [
    "### 기본 쓰레스홀드\n",
    "pred_et = best_model_et.predict(X_val)\n",
    "get_clf_eval(y_val, pred_et)"
   ]
  },
  {
   "cell_type": "code",
   "execution_count": null,
   "metadata": {},
   "outputs": [],
   "source": [
    "### 최적 쓰레스홀드\n",
    "get_clf_eval(y_val, y_pred_custom_threshold_et)"
   ]
  },
  {
   "cell_type": "code",
   "execution_count": null,
   "metadata": {},
   "outputs": [],
   "source": [
    "### 3. Soft Voting"
   ]
  },
  {
   "cell_type": "code",
   "execution_count": null,
   "metadata": {},
   "outputs": [],
   "source": [
    "# soft voting\n",
    "soft_voting_model = VotingClassifier(estimators=[\n",
    "                                                 ('Extra Tree', best_model_et),\n",
    "                                                 ('Light GBM', best_model_lgbm)\n",
    "                                                ],\n",
    "                                     voting='soft',\n",
    "                                     weights=[1, 1])"
   ]
  },
  {
   "cell_type": "code",
   "execution_count": null,
   "metadata": {},
   "outputs": [],
   "source": [
    "soft_voting_model.fit(X_train, y_train)"
   ]
  },
  {
   "cell_type": "code",
   "execution_count": null,
   "metadata": {},
   "outputs": [],
   "source": [
    "# predict & confusion Matrix\n",
    "pred_soft_voting = soft_voting_model.predict(X_val)\n",
    "get_clf_eval(y_val, pred_soft_voting)"
   ]
  },
  {
   "cell_type": "code",
   "execution_count": null,
   "metadata": {},
   "outputs": [],
   "source": [
    "y_pred_proba_sv = soft_voting_model.predict_proba(X_val)[:, 1]"
   ]
  },
  {
   "cell_type": "code",
   "execution_count": null,
   "metadata": {},
   "outputs": [],
   "source": [
    "fpr_sv, tpr_sv, thresholds_sv = roc_curve(y_val, y_pred_proba_sv)"
   ]
  },
  {
   "cell_type": "code",
   "execution_count": null,
   "metadata": {},
   "outputs": [],
   "source": [
    "# ROC 곡선 그리기\n",
    "plt.figure()\n",
    "plt.plot(fpr_sv, tpr_sv, label='ROC curve (area = %0.2f)' % auc(fpr_sv, tpr_sv))\n",
    "plt.plot([0, 1], [0, 1], 'k--')\n",
    "plt.xlim([0.0, 1.0])\n",
    "plt.ylim([0.0, 1.01])\n",
    "plt.xlabel('False Positive Rate')\n",
    "plt.ylabel('True Positive Rate')\n",
    "plt.title('ROC Curve')\n",
    "plt.legend(loc=\"lower right\")\n",
    "plt.show()"
   ]
  },
  {
   "cell_type": "code",
   "execution_count": null,
   "metadata": {},
   "outputs": [],
   "source": [
    "# 적정 임계값 찾기\n",
    "optimal_idx_sv = np.argmax(tpr_sv - fpr_sv)\n",
    "optimal_threshold_sv = thresholds_sv[optimal_idx_sv]\n",
    "print(\"Optimal threshold:\", optimal_threshold_sv)"
   ]
  },
  {
   "cell_type": "code",
   "execution_count": null,
   "metadata": {},
   "outputs": [],
   "source": [
    "y_pred_custom_threshold_sv = (y_pred_proba_sv >= optimal_threshold_sv).astype(int)"
   ]
  },
  {
   "cell_type": "code",
   "execution_count": null,
   "metadata": {},
   "outputs": [],
   "source": [
    "### 기본 쓰레스홀드\n",
    "pred_sv = soft_voting_model.predict(X_val)\n",
    "get_clf_eval(y_val, pred_sv)"
   ]
  },
  {
   "cell_type": "code",
   "execution_count": null,
   "metadata": {},
   "outputs": [],
   "source": [
    "### 최적 쓰레스홀드\n",
    "get_clf_eval(y_val, y_pred_custom_threshold_sv)"
   ]
  },
  {
   "cell_type": "code",
   "execution_count": null,
   "metadata": {},
   "outputs": [],
   "source": [
    "### 4. Stacking"
   ]
  },
  {
   "cell_type": "code",
   "execution_count": null,
   "metadata": {},
   "outputs": [],
   "source": [
    "estimators=[\n",
    "    ('Extra Tree', best_model_et),\n",
    "    ('Light GBM', best_model_lgbm),\n",
    "    ('Soft_voting', soft_voting_model)\n",
    "]\n",
    "stacking_model = StackingClassifier(\n",
    "     estimators=estimators,\n",
    "     final_estimator=LogisticRegression()\n",
    ")"
   ]
  },
  {
   "cell_type": "code",
   "execution_count": null,
   "metadata": {},
   "outputs": [],
   "source": [
    "stacking_model.fit(X_train, y_train)"
   ]
  },
  {
   "cell_type": "code",
   "execution_count": null,
   "metadata": {},
   "outputs": [],
   "source": [
    "# predict & confusion Matrix\n",
    "pred_stacking = stacking_model.predict(X_val)\n",
    "get_clf_eval(y_val, pred_stacking)"
   ]
  },
  {
   "cell_type": "code",
   "execution_count": null,
   "metadata": {},
   "outputs": [],
   "source": [
    "y_pred_proba_stack = stacking_model.predict_proba(X_val)[:, 1]"
   ]
  },
  {
   "cell_type": "code",
   "execution_count": null,
   "metadata": {},
   "outputs": [],
   "source": [
    "fpr_stack, tpr_stack, thresholds_stack = roc_curve(y_val, y_pred_proba_stack)"
   ]
  },
  {
   "cell_type": "code",
   "execution_count": null,
   "metadata": {},
   "outputs": [],
   "source": [
    "# ROC 곡선 그리기\n",
    "plt.figure()\n",
    "plt.plot(fpr_stack, tpr_stack, label='ROC curve (area = %0.2f)' % auc(fpr_stack, tpr_stack))\n",
    "plt.plot([0, 1], [0, 1], 'k--')\n",
    "plt.xlim([0.0, 1.0])\n",
    "plt.ylim([0.0, 1.01])\n",
    "plt.xlabel('False Positive Rate')\n",
    "plt.ylabel('True Positive Rate')\n",
    "plt.title('ROC Curve')\n",
    "plt.legend(loc=\"lower right\")\n",
    "plt.show()"
   ]
  },
  {
   "cell_type": "code",
   "execution_count": null,
   "metadata": {},
   "outputs": [],
   "source": [
    "# 적정 임계값 찾기\n",
    "optimal_idx_stack = np.argmax(tpr_stack - fpr_stack)\n",
    "optimal_threshold_stack = thresholds_stack[optimal_idx_stack]\n",
    "print(\"Optimal threshold:\", optimal_threshold_stack)"
   ]
  },
  {
   "cell_type": "code",
   "execution_count": null,
   "metadata": {},
   "outputs": [],
   "source": [
    "y_pred_custom_threshold_stack = (y_pred_proba_stack >= optimal_threshold_stack).astype(int)"
   ]
  },
  {
   "cell_type": "code",
   "execution_count": null,
   "metadata": {},
   "outputs": [],
   "source": [
    "### 기본 쓰레스홀드\n",
    "pred_stack = stacking_model.predict(X_val)\n",
    "get_clf_eval(y_val, pred_stack)"
   ]
  },
  {
   "cell_type": "code",
   "execution_count": null,
   "metadata": {},
   "outputs": [],
   "source": [
    "### 최적 쓰레스홀드\n",
    "get_clf_eval(y_val, y_pred_custom_threshold_stack)"
   ]
  },
  {
   "cell_type": "code",
   "execution_count": null,
   "metadata": {},
   "outputs": [],
   "source": [
    "# 제출용 데이터 만들기"
   ]
  },
  {
   "cell_type": "code",
   "execution_count": null,
   "metadata": {},
   "outputs": [],
   "source": [
    "# 예측에 필요한 데이터 분리\n",
    "x_test = df_test.drop([\"is_converted\", \"id\"], axis=1)"
   ]
  },
  {
   "cell_type": "code",
   "execution_count": null,
   "metadata": {},
   "outputs": [],
   "source": [
    "X_merged = pd.concat([X_train, X_val])\n",
    "y_merged = pd.concat([y_train, y_val])"
   ]
  },
  {
   "cell_type": "code",
   "execution_count": null,
   "metadata": {},
   "outputs": [],
   "source": [
    "# params\n",
    "lgbm_params = best_params_lgbm"
   ]
  },
  {
   "cell_type": "code",
   "execution_count": null,
   "metadata": {},
   "outputs": [],
   "source": [
    "# threshold\n",
    "optimal_threshold_final = optimal_threshold_lgbm"
   ]
  },
  {
   "cell_type": "code",
   "execution_count": null,
   "metadata": {},
   "outputs": [],
   "source": [
    "y.value_counts()/y.count()"
   ]
  },
  {
   "cell_type": "code",
   "execution_count": null,
   "metadata": {},
   "outputs": [],
   "source": [
    "for cat_feature in categorical_features:\n",
    "    if cat_feature in X_train.columns:\n",
    "        X[cat_feature] = X[cat_feature].astype('category')\n",
    "        X_merged[cat_feature] = X_merged[cat_feature].astype('category')\n",
    "        x_test[cat_feature] = x_test[cat_feature].astype('category')"
   ]
  },
  {
   "cell_type": "code",
   "execution_count": null,
   "metadata": {},
   "outputs": [],
   "source": [
    "# soft voting\n",
    "final_model = LGBMClassifier(\n",
    "#  **best_params,\n",
    "    **lgbm_params,\n",
    "    random_state=42\n",
    ")\n",
    "\n",
    "final_pred = final_model.fit(X, y).predict(x_test)\n",
    "sum(final_pred) # True로 예측된 개수"
   ]
  },
  {
   "cell_type": "code",
   "execution_count": null,
   "metadata": {},
   "outputs": [],
   "source": [
    "# lgbm_params = best_params"
   ]
  },
  {
   "cell_type": "code",
   "execution_count": null,
   "metadata": {},
   "outputs": [],
   "source": [
    "# # best_params = study.best_params\n",
    "# best_model_lgbm = LGBMClassifier(\n",
    "# #                            **best_params,\n",
    "#                            **lgbm_params,\n",
    "#                            random_state=1996)\n",
    "\n",
    "# test_pred_lgbm = best_model_lgbm.fit(X,y).predict(x_test)\n",
    "# sum(test_pred_lgbm) # True로 예측된 개수"
   ]
  },
  {
   "cell_type": "code",
   "execution_count": null,
   "metadata": {},
   "outputs": [],
   "source": [
    "# y_pred_proba_lgbm = best_model_lgbm.predict_proba(x_test)[:, 1]  # 양성 클래스에 대한 확률\n",
    "# y_pred_custom_threshold_lgbm = (y_pred_proba_lgbm >= optimal_threshold_lgbm).astype(int)"
   ]
  },
  {
   "cell_type": "code",
   "execution_count": null,
   "metadata": {},
   "outputs": [],
   "source": [
    "y_pred_proba_final = final_model.predict_proba(x_test)[:, 1]  # 양성 클래스에 대한 확률\n",
    "y_pred_custom_threshold_final = (y_pred_proba_final >= optimal_threshold_final).astype(int)"
   ]
  },
  {
   "cell_type": "code",
   "execution_count": null,
   "metadata": {},
   "outputs": [],
   "source": [
    "sum(y_pred_custom_threshold_final)"
   ]
  },
  {
   "cell_type": "code",
   "execution_count": null,
   "metadata": {},
   "outputs": [],
   "source": [
    "# 제출 데이터 읽어오기 (df_test는 전처리된 데이터가 저장됨)\n",
    "df_sub = pd.read_csv(\"submission.csv\")\n",
    "df_sub[\"is_converted\"] = y_pred_custom_threshold_final\n",
    "\n",
    "# 제출 파일 저장\n",
    "df_sub.to_csv(\"submission_tmp002.csv\", index=False)"
   ]
  }
 ],
 "metadata": {
  "language_info": {
   "name": "python"
  }
 },
 "nbformat": 4,
 "nbformat_minor": 2
}
