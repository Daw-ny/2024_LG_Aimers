{
 "cells": [
  {
   "cell_type": "code",
   "outputs": [],
   "source": [
    "from utils.ETC import *\n",
    "from matplotlib import pyplot as plt\n",
    "from category_encoders import TargetEncoder\n",
    "from sklearn.preprocessing import LabelEncoder\n",
    "from IPython.core.interactiveshell import InteractiveShell\n",
    "\n",
    "import re\n",
    "import copy\n",
    "import warnings\n",
    "import pandas as pd"
   ],
   "metadata": {
    "collapsed": false,
    "ExecuteTime": {
     "end_time": "2024-02-15T12:59:52.746799200Z",
     "start_time": "2024-02-15T12:59:52.737027Z"
    }
   },
   "id": "496270b0ab9e193c",
   "execution_count": 258
  },
  {
   "cell_type": "code",
   "outputs": [],
   "source": [
    "plt.rc('font', family='GULIM')\n",
    "warnings.filterwarnings(action='ignore')\n",
    "InteractiveShell.ast_node_interactivity = \"all\""
   ],
   "metadata": {
    "collapsed": false,
    "ExecuteTime": {
     "end_time": "2024-02-15T12:59:52.921043500Z",
     "start_time": "2024-02-15T12:59:52.913498500Z"
    }
   },
   "id": "ed456206b461c823",
   "execution_count": 259
  },
  {
   "cell_type": "markdown",
   "source": [
    "# Data Check"
   ],
   "metadata": {
    "collapsed": false
   },
   "id": "c1e6f16ba4b193c1"
  },
  {
   "cell_type": "code",
   "outputs": [],
   "source": [
    "train = pd.read_csv('../Database/train.csv')\n",
    "test = pd.read_csv('../Database/submission.csv', index_col=0)\n",
    "\n",
    "train_target = pd.DataFrame(train['is_converted'])\n",
    "test_target = pd.DataFrame(test['is_converted'])\n",
    "\n",
    "delete_list = ['product_modelname', 'customer_country.1', 'is_converted']\n",
    "\n",
    "continuous_list = ['com_reg_ver_win_rate', 'ver_win_ratio_per_bu', 'ver_win_rate_x', 'historical_existing_cnt',\n",
    "                   'lead_desc_length']\n",
    "\n",
    "weight_list = ['ver_cus', 'ver_pro', 'id_strategic_ver', 'it_strategic_ver', 'idit_strategic_ver', 'enterprise',\n",
    "               'lead_owner', 'response_corporate']\n",
    "\n",
    "category_list = [item for item in train.columns if item not in continuous_list + weight_list + delete_list]\n",
    "\n",
    "discrete_list = weight_list + category_list\n",
    "\n",
    "clean_continuous_col = ['lead_desc_length']\n",
    "unclean_continuous_col = [item for item in continuous_list if item not in clean_continuous_col]\n",
    "\n",
    "clean_discrete_col = ['customer_idx', 'bant_submit', 'business_unit']\n",
    "clean_discrete_col += weight_list\n",
    "unclean_discrete_col = [item for item in discrete_list if item not in clean_discrete_col]\n",
    "\n",
    "train_categorical = train[discrete_list]\n",
    "test_categorical = test[discrete_list]\n",
    "\n",
    "train.drop(columns=delete_list, inplace=True)\n",
    "test.drop(columns=delete_list, inplace=True)\n",
    "train.drop(columns=discrete_list, inplace=True)\n",
    "test.drop(columns=discrete_list, inplace=True)\n",
    "\n",
    "train = pd.concat([train_target, train, train_categorical])\n",
    "test = pd.concat([test_target, test, test_categorical])\n",
    "\n",
    "train = train.groupby(train.index).first()\n",
    "test = test.groupby(test.index).first()\n",
    "\n",
    "discrete_list.remove('customer_country')\n",
    "discrete_list.remove('bant_submit')\n",
    "discrete_list.append('country')"
   ],
   "metadata": {
    "collapsed": false,
    "ExecuteTime": {
     "end_time": "2024-02-15T12:59:53.631566500Z",
     "start_time": "2024-02-15T12:59:53.263842Z"
    }
   },
   "id": "cb76e1070f034427",
   "execution_count": 260
  },
  {
   "cell_type": "markdown",
   "source": [
    "# General preprocessing"
   ],
   "metadata": {
    "collapsed": false
   },
   "id": "eeeb07b5f8060532"
  },
  {
   "cell_type": "code",
   "outputs": [],
   "source": [
    "for col in weight_list + unclean_continuous_col:\n",
    "    train[col] = train[col].fillna(0)\n",
    "    test[col] = test[col].fillna(0)\n",
    "\n",
    "for col in unclean_discrete_col:\n",
    "    train[col] = train[col].fillna('none')\n",
    "    test[col] = test[col].fillna('none')\n",
    "\n",
    "for col in unclean_discrete_col:\n",
    "    train[col] = train[col].str.replace('&', '/')\n",
    "    test[col] = test[col].str.replace('&', '/')\n",
    "\n",
    "    train[col] = train[col].apply(lambda x: re.sub('[^A-Za-z0-9가-힣/]', ' ', x))\n",
    "    train[col] = train[col].apply(lambda x: re.sub(' +', '', x).strip())\n",
    "    train[col] = train[col].str.lower()\n",
    "    test[col] = test[col].apply(lambda x: re.sub('[^A-Za-z0-9가-힣/]', ' ', x))\n",
    "    test[col] = test[col].apply(lambda x: re.sub(' +', '', x).strip())\n",
    "    test[col] = test[col].str.lower()"
   ],
   "metadata": {
    "collapsed": false,
    "ExecuteTime": {
     "end_time": "2024-02-15T12:59:56.073928500Z",
     "start_time": "2024-02-15T12:59:53.633567Z"
    }
   },
   "id": "eeb4ff0d20925dab",
   "execution_count": 261
  },
  {
   "cell_type": "code",
   "outputs": [],
   "source": [
    "train['country'] = train['customer_country'].str.split('/').str[-1]\n",
    "test['country'] = test['customer_country'].str.split('/').str[-1]\n",
    "train['country'] = train['country'].str.strip()\n",
    "test['country'] = test['country'].str.strip()\n",
    "\n",
    "country_mapping = {\n",
    "    'uae': 'united arab emirates',\n",
    "    'uaedubai': 'united arab emirates',\n",
    "    'türkiye': 'trkiye',\n",
    "    'us': 'united states',\n",
    "    'usa': 'united states',\n",
    "    'united states': 'united states',\n",
    "    'uk': 'united kingdom',\n",
    "    'brasil': 'brazil',\n",
    "    'hanoi': 'vietnam',\n",
    "    'southkorea': 'korea',\n",
    "    'republicofkorea': 'korea',\n",
    "    'skorea': 'korea',\n",
    "    'czech': 'czech republic',\n",
    "    'czechia': 'czech republic',\n",
    "    'macau': 'china',\n",
    "    'england': 'united kingdom',\n",
    "    'scotland': 'united kingdom',\n",
    "    'prc': 'china',\n",
    "    'mainland china': 'china',\n",
    "    'france': 'france',\n",
    "    'french': 'france',\n",
    "    'paris': 'france',\n",
    "    'germany': 'germany',\n",
    "    'deutschland': 'germany',\n",
    "    'berlin': 'germany',\n",
    "    'abudhabi': 'united arab emirates',\n",
    "    'dubai': 'united arab emirates',\n",
    "}\n",
    "\n",
    "train['country'] = train['country'].replace(country_mapping)\n",
    "test['country'] = test['country'].replace(country_mapping)\n",
    "\n",
    "train.drop(columns='customer_country', inplace=True)\n",
    "test.drop(columns='customer_country', inplace=True)"
   ],
   "metadata": {
    "collapsed": false,
    "ExecuteTime": {
     "end_time": "2024-02-15T12:59:56.249228200Z",
     "start_time": "2024-02-15T12:59:56.078971100Z"
    }
   },
   "id": "f4e131db10a53623",
   "execution_count": 262
  },
  {
   "cell_type": "code",
   "outputs": [],
   "source": [
    "for col in discrete_list:\n",
    "    train.loc[train[col] == 'others', col] = 'other'\n",
    "    test.loc[test[col] == 'others', col] = 'other'\n",
    "    train.loc[train[col] == 'etc', col] = 'other'\n",
    "    test.loc[test[col] == 'etc', col] = 'other'\n",
    "    train.loc[train[col] == '', col] = 'none'\n",
    "    test.loc[test[col] == '', col] = 'none'"
   ],
   "metadata": {
    "collapsed": false,
    "ExecuteTime": {
     "end_time": "2024-02-15T12:59:56.526315700Z",
     "start_time": "2024-02-15T12:59:56.252273300Z"
    }
   },
   "id": "9ff298433964a099",
   "execution_count": 263
  },
  {
   "cell_type": "code",
   "outputs": [],
   "source": [
    "test.loc[test['customer_job'] == 'healthcare', 'customer_job'] = 'healthcareservices'\n",
    "test.loc[test['customer_job'] == 'k12school', 'customer_job'] = 'teacher'\n",
    "test.loc[test['product_category'] == 'notebook', 'product_category'] = 'laptop'\n",
    "test.loc[test['product_category'] == 'ess', 'product_category'] = 'essentialseries'\n",
    "test.loc[test['customer_position'] == 'pgtchemistry', 'customer_position'] = 'chemistryteacher'\n",
    "\n",
    "train.loc[train['expected_timeline'] == '3months', 'expected_timeline'] = 'lessthan3months'\n",
    "train.loc[train['expected_timeline'] == '45days', 'expected_timeline'] = 'lessthan3months'\n",
    "train.loc[train['expected_timeline'] == '4/8months', 'expected_timeline'] = '3months6months'\n",
    "train.loc[train['customer_position'] == 'enduser', 'customer_position'] = 'customer'\n",
    "\n",
    "train.loc[train['customer_type'] == 'enduser', 'customer_type'] = 'endcustomer'\n",
    "train.loc[train['customer_type'] == 'installer/contractor', 'customer_type'] = 'installer'"
   ],
   "metadata": {
    "collapsed": false,
    "ExecuteTime": {
     "end_time": "2024-02-15T12:59:56.579291700Z",
     "start_time": "2024-02-15T12:59:56.538435700Z"
    }
   },
   "id": "37eed936cfda1d70",
   "execution_count": 264
  },
  {
   "cell_type": "code",
   "outputs": [],
   "source": [
    "discrete_list.remove('lead_owner')\n",
    "\n",
    "for col in discrete_list:\n",
    "    frequency = train[col].value_counts()\n",
    "    replace_train = frequency[frequency <= 10].index\n",
    "    train[col] = train[col].apply(lambda x: x if x not in replace_train else 0)\n",
    "\n",
    "    unique_train_values = train[col].unique()\n",
    "    test[col] = test[col].apply(lambda x: x if x in unique_train_values else -1)\n",
    "\n",
    "    # unique_test_values = test[col].unique()\n",
    "    # train[col] = train[col].apply(lambda x: x if x in unique_test_values else -1)\n",
    "\n",
    "for col in ['lead_owner']:\n",
    "    frequency = train[col].value_counts()\n",
    "    replace_train = frequency[frequency <= 5].index\n",
    "    train[col] = train[col].apply(lambda x: x if x not in replace_train else 0)\n",
    "\n",
    "    unique_train_values = train[col].unique()\n",
    "    test[col] = test[col].apply(lambda x: x if x in unique_train_values else -1)\n",
    "\n",
    "    # unique_test_values = test[col].unique()\n",
    "    # train[col] = train[col].apply(lambda x: x if x in unique_test_values else -1)\n",
    "\n",
    "discrete_list.append('lead_owner')"
   ],
   "metadata": {
    "collapsed": false,
    "ExecuteTime": {
     "end_time": "2024-02-15T12:59:59.637155700Z",
     "start_time": "2024-02-15T12:59:56.568196Z"
    }
   },
   "id": "4ec03e28f8d92638",
   "execution_count": 265
  },
  {
   "cell_type": "code",
   "outputs": [
    {
     "name": "stdout",
     "output_type": "stream",
     "text": [
      "범주 갯수\n",
      "ver_cus: 2 개\n",
      "ver_cus: 2 개\n",
      "ver_cus: 모든 Test 범주가 Train에 존재함.\n",
      "Only Test 범주의 비율: 0.00%\n",
      "\n",
      "ver_pro: 2 개\n",
      "ver_pro: 2 개\n",
      "ver_pro: 모든 Test 범주가 Train에 존재함.\n",
      "Only Test 범주의 비율: 0.00%\n",
      "\n",
      "id_strategic_ver: 2 개\n",
      "id_strategic_ver: 2 개\n",
      "id_strategic_ver: 모든 Test 범주가 Train에 존재함.\n",
      "Only Test 범주의 비율: 0.00%\n",
      "\n",
      "it_strategic_ver: 2 개\n",
      "it_strategic_ver: 2 개\n",
      "it_strategic_ver: 모든 Test 범주가 Train에 존재함.\n",
      "Only Test 범주의 비율: 0.00%\n",
      "\n",
      "idit_strategic_ver: 2 개\n",
      "idit_strategic_ver: 2 개\n",
      "idit_strategic_ver: 모든 Test 범주가 Train에 존재함.\n",
      "Only Test 범주의 비율: 0.00%\n",
      "\n",
      "enterprise: 2 개\n",
      "enterprise: 2 개\n",
      "enterprise: 모든 Test 범주가 Train에 존재함.\n",
      "Only Test 범주의 비율: 0.00%\n",
      "\n",
      "response_corporate: 47 개\n",
      "response_corporate: 41 개\n",
      "response_corporate: Train에 없는 Test 범주갯수: 1개\n",
      "response_corporate: Train에 없는 Test 범주갯수: {-1}\n",
      "Only Test 범주의 비율: 0.02%\n",
      "\n",
      "business_unit: 5 개\n",
      "business_unit: 3 개\n",
      "business_unit: 모든 Test 범주가 Train에 존재함.\n",
      "Only Test 범주의 비율: 0.00%\n",
      "\n",
      "customer_idx: 100 개\n",
      "customer_idx: 42 개\n",
      "customer_idx: Train에 없는 Test 범주갯수: 1개\n",
      "customer_idx: Train에 없는 Test 범주갯수: {-1.0}\n",
      "Only Test 범주의 비율: 88.62%\n",
      "\n",
      "customer_type: 16 개\n",
      "customer_type: 7 개\n",
      "customer_type: 모든 Test 범주가 Train에 존재함.\n",
      "Only Test 범주의 비율: 0.00%\n",
      "\n",
      "customer_job: 61 개\n",
      "customer_job: 38 개\n",
      "customer_job: Train에 없는 Test 범주갯수: 1개\n",
      "customer_job: Train에 없는 Test 범주갯수: {-1}\n",
      "Only Test 범주의 비율: 0.06%\n",
      "\n",
      "inquiry_type: 18 개\n",
      "inquiry_type: 13 개\n",
      "inquiry_type: Train에 없는 Test 범주갯수: 1개\n",
      "inquiry_type: Train에 없는 Test 범주갯수: {-1}\n",
      "Only Test 범주의 비율: 0.09%\n",
      "\n",
      "product_category: 73 개\n",
      "product_category: 31 개\n",
      "product_category: Train에 없는 Test 범주갯수: 1개\n",
      "product_category: Train에 없는 Test 범주갯수: {-1}\n",
      "Only Test 범주의 비율: 0.08%\n",
      "\n",
      "product_subcategory: 124 개\n",
      "product_subcategory: 100 개\n",
      "product_subcategory: Train에 없는 Test 범주갯수: 1개\n",
      "product_subcategory: Train에 없는 Test 범주갯수: {-1}\n",
      "Only Test 범주의 비율: 1.44%\n",
      "\n",
      "customer_position: 28 개\n",
      "customer_position: 14 개\n",
      "customer_position: Train에 없는 Test 범주갯수: 1개\n",
      "customer_position: Train에 없는 Test 범주갯수: {-1}\n",
      "Only Test 범주의 비율: 0.19%\n",
      "\n",
      "expected_timeline: 12 개\n",
      "expected_timeline: 6 개\n",
      "expected_timeline: 모든 Test 범주가 Train에 존재함.\n",
      "Only Test 범주의 비율: 0.00%\n",
      "\n",
      "business_area: 13 개\n",
      "business_area: 13 개\n",
      "business_area: 모든 Test 범주가 Train에 존재함.\n",
      "Only Test 범주의 비율: 0.00%\n",
      "\n",
      "business_subarea: 55 개\n",
      "business_subarea: 53 개\n",
      "business_subarea: Train에 없는 Test 범주갯수: 1개\n",
      "business_subarea: Train에 없는 Test 범주갯수: {-1}\n",
      "Only Test 범주의 비율: 1.88%\n",
      "\n",
      "country: 99 개\n",
      "country: 73 개\n",
      "country: Train에 없는 Test 범주갯수: 1개\n",
      "country: Train에 없는 Test 범주갯수: {-1}\n",
      "Only Test 범주의 비율: 0.65%\n",
      "\n",
      "lead_owner: 598 개\n",
      "lead_owner: 285 개\n",
      "lead_owner: Train에 없는 Test 범주갯수: 1개\n",
      "lead_owner: Train에 없는 Test 범주갯수: {-1.0}\n",
      "Only Test 범주의 비율: 14.15%\n"
     ]
    }
   ],
   "source": [
    "print('범주 갯수')\n",
    "for i, name in enumerate(discrete_list):\n",
    "    train_class = train[name].value_counts()\n",
    "    test_class = test[name].value_counts()\n",
    "    print(f'{name}: {len(set(train_class.index))} 개')\n",
    "    print(f'{name}: {len(set(test_class.index))} 개')\n",
    "\n",
    "    not_in_train = [item for item in test_class.index if item not in train_class.index]\n",
    "    test_only_counts = test[name].isin(not_in_train).sum()\n",
    "    test_only_ratio = test_only_counts / test[name].value_counts().sum()\n",
    "\n",
    "    if not_in_train:\n",
    "        print(f'{name}: Train에 없는 Test 범주갯수: {len(set(not_in_train))}개')\n",
    "        print(f'{name}: Train에 없는 Test 범주갯수: {(set(not_in_train))}')\n",
    "\n",
    "    else:\n",
    "        print(f'{name}: 모든 Test 범주가 Train에 존재함.')\n",
    "    print(f\"Only Test 범주의 비율: {test_only_ratio * 100:.2f}%\")\n",
    "    print('')"
   ],
   "metadata": {
    "collapsed": false,
    "ExecuteTime": {
     "end_time": "2024-02-15T12:59:59.734811400Z",
     "start_time": "2024-02-15T12:59:59.635077700Z"
    }
   },
   "id": "f33d3fbc21f83298",
   "execution_count": 266
  },
  {
   "cell_type": "markdown",
   "source": [
    "# Derivation Variables"
   ],
   "metadata": {
    "collapsed": false
   },
   "id": "5e9be5f17d3a4c8f"
  },
  {
   "cell_type": "code",
   "outputs": [],
   "source": [
    "train['ver_win_rate_x_category'] = train['ver_win_rate_x'].astype('object')\n",
    "test['ver_win_rate_x_category'] = test['ver_win_rate_x'].astype('object')\n",
    "\n",
    "train['historical_existing_cnt_category'] = train['historical_existing_cnt']\n",
    "test['historical_existing_cnt_category'] = test['historical_existing_cnt']\n",
    "\n",
    "frequency = train['historical_existing_cnt_category'].value_counts()\n",
    "idx_to_replace = frequency[frequency <= 5].index\n",
    "train['historical_existing_cnt_category'] = train['historical_existing_cnt_category'].replace(idx_to_replace, 'other')\n",
    "train['historical_existing_cnt_category'] = train['historical_existing_cnt_category'].astype('object')\n",
    "\n",
    "train_unique_values = {\n",
    "    'historical_existing_cnt_category': set(\n",
    "        train[train['historical_existing_cnt_category'] != 'other']['historical_existing_cnt_category'])\n",
    "}\n",
    "\n",
    "for col, unique_values in train_unique_values.items():\n",
    "    test[col] = test[col].apply(lambda x: x if x in unique_values else 'other')\n",
    "\n",
    "discrete_list.append('ver_win_rate_x_category')\n",
    "discrete_list.append('historical_existing_cnt_category')"
   ],
   "metadata": {
    "collapsed": false,
    "ExecuteTime": {
     "end_time": "2024-02-15T12:28:45.698209Z",
     "start_time": "2024-02-15T12:28:45.628753900Z"
    }
   },
   "id": "2b756a8b27a3e06d",
   "execution_count": 82
  },
  {
   "cell_type": "code",
   "outputs": [],
   "source": [
    "conversion_rate_and_count_by_lead_owner = train.groupby('lead_owner')['is_converted'].agg(\n",
    "    ['mean', 'count']).sort_values(by='mean', ascending=False)\n",
    "conversion_dict = conversion_rate_and_count_by_lead_owner['mean'].to_dict()\n",
    "train['lead_owner_mean_value'] = train['lead_owner'].map(conversion_dict)\n",
    "test['lead_owner_mean_value'] = test['lead_owner'].map(conversion_dict)"
   ],
   "metadata": {
    "collapsed": false,
    "ExecuteTime": {
     "end_time": "2024-02-15T12:53:05.571506300Z",
     "start_time": "2024-02-15T12:53:05.517506400Z"
    }
   },
   "id": "55b05be1bb28d179",
   "execution_count": 213
  },
  {
   "cell_type": "code",
   "outputs": [],
   "source": [
    "conditions = [\n",
    "    ('new_column_90', (conversion_rate_and_count_by_lead_owner['mean'] >= 0.99) & (\n",
    "            conversion_rate_and_count_by_lead_owner['count'] >= 5)),\n",
    "    ('new_column_80', (conversion_rate_and_count_by_lead_owner['mean'] < 0.99) & (\n",
    "            conversion_rate_and_count_by_lead_owner['mean'] >= 0.8) & (\n",
    "             conversion_rate_and_count_by_lead_owner['count'] >= 5)),\n",
    "    ('new_column_50', (conversion_rate_and_count_by_lead_owner['mean'] < 0.8) & (\n",
    "            conversion_rate_and_count_by_lead_owner['mean'] >= 0.5) & (\n",
    "             conversion_rate_and_count_by_lead_owner['count'] >= 5)),\n",
    "    ('new_column_20', (conversion_rate_and_count_by_lead_owner['mean'] < 0.5) & (\n",
    "            conversion_rate_and_count_by_lead_owner['mean'] >= 0.2) & (\n",
    "             conversion_rate_and_count_by_lead_owner['count'] >= 5)),\n",
    "    ('new_column_01', (conversion_rate_and_count_by_lead_owner['mean'] <= 0.01) & (\n",
    "            conversion_rate_and_count_by_lead_owner['count'] >= 30))\n",
    "]\n",
    "\n",
    "for col_name, condition in conditions:\n",
    "    qualified_lead_owners = conversion_rate_and_count_by_lead_owner[condition].index\n",
    "    train[col_name] = 0\n",
    "    test[col_name] = 0\n",
    "    train.loc[train['lead_owner'].isin(qualified_lead_owners), col_name] = 1\n",
    "    test.loc[train['lead_owner'].isin(qualified_lead_owners), col_name] = 1"
   ],
   "metadata": {
    "collapsed": false,
    "ExecuteTime": {
     "end_time": "2024-02-15T10:48:22.212134800Z",
     "start_time": "2024-02-15T10:48:22.189250300Z"
    }
   },
   "id": "c442aed986721e9c",
   "execution_count": 12
  },
  {
   "cell_type": "code",
   "outputs": [],
   "source": [
    "train['response_corporate_high'] = 0\n",
    "test['response_corporate_high'] = 0\n",
    "\n",
    "train['response_corporate_low'] = 0\n",
    "test['response_corporate_low'] = 0\n",
    "\n",
    "train.loc[train['response_corporate'].isin(['LGEAF', 'LGEHK', 'LGERO']), 'response_corporate_high'] = 1\n",
    "test.loc[test['response_corporate'].isin(['LGEAF', 'LGEHK', 'LGERO']), 'response_corporate_high'] = 1\n",
    "\n",
    "train.loc[train['response_corporate'].isin(['LGEUK']), 'response_corporate_low'] = 1\n",
    "test.loc[test['response_corporate'].isin(['LGEUK']), 'response_corporate_low'] = 1"
   ],
   "metadata": {
    "collapsed": false,
    "ExecuteTime": {
     "end_time": "2024-02-15T07:02:52.414889500Z",
     "start_time": "2024-02-15T07:02:52.402517Z"
    }
   },
   "id": "8080cca056f8c3d0",
   "execution_count": 75
  },
  {
   "cell_type": "code",
   "outputs": [],
   "source": [
    "train['business_subarea_high'] = 0\n",
    "test['business_subarea_high'] = 0\n",
    "\n",
    "train['business_subarea_low'] = 0\n",
    "test['business_subarea_low'] = 0\n",
    "\n",
    "train.loc[train['business_subarea'].isin(['hotel', 'cruise', 'hospital']), 'business_subarea_high'] = 1\n",
    "test.loc[test['business_subarea'].isin(['hotel', 'cruise', 'hospital']), 'business_subarea_high'] = 1\n",
    "\n",
    "train.loc[train['business_subarea'].isin(['logistics', 'bookstore']), 'business_subarea_low'] = 1\n",
    "test.loc[test['business_subarea'].isin(['logistics', 'bookstore']), 'business_subarea_low'] = 1"
   ],
   "metadata": {
    "collapsed": false,
    "ExecuteTime": {
     "end_time": "2024-02-15T07:02:52.444717100Z",
     "start_time": "2024-02-15T07:02:52.414889500Z"
    }
   },
   "id": "3b626f703a2aed21",
   "execution_count": 76
  },
  {
   "cell_type": "code",
   "outputs": [],
   "source": [
    "train['country_high'] = 0\n",
    "test['country_high'] = 0\n",
    "\n",
    "train['country_low'] = 0\n",
    "test['country_low'] = 0\n",
    "\n",
    "train.loc[train['country'].isin(['nigeria', 'senegal', 'hongkong']), 'country_high'] = 1\n",
    "test.loc[test['country'].isin(['nigeria', 'senegal', 'hongkong']), 'country_high'] = 1\n",
    "\n",
    "train.loc[train['country'].isin(['italy', 'serbia', 'korea', 'afghanistan', 'trkiye']), 'country_low'] = 1\n",
    "test.loc[test['country'].isin(['italy', 'serbia', 'korea', 'afghanistan', 'trkiye']), 'country_low'] = 1"
   ],
   "metadata": {
    "collapsed": false,
    "ExecuteTime": {
     "end_time": "2024-02-15T07:02:52.460903300Z",
     "start_time": "2024-02-15T07:02:52.434323700Z"
    }
   },
   "id": "79bd404d398a0aba",
   "execution_count": 77
  },
  {
   "cell_type": "code",
   "outputs": [],
   "source": [
    "train['customer_idx_high'] = 0\n",
    "test['customer_idx_high'] = 0\n",
    "\n",
    "train.loc[train['customer_idx'].isin([20943, 9857, 9324, 19252, 27735, 27737]), 'customer_idx_high'] = 1\n",
    "test.loc[test['customer_idx'].isin([20943, 9857, 9324, 19252, 27735, 27737]), 'customer_idx_high'] = 1"
   ],
   "metadata": {
    "collapsed": false,
    "ExecuteTime": {
     "end_time": "2024-02-15T07:02:52.478914800Z",
     "start_time": "2024-02-15T07:02:52.450572600Z"
    }
   },
   "id": "7b34ac1c4e5732c7",
   "execution_count": 78
  },
  {
   "cell_type": "code",
   "outputs": [],
   "source": [
    "train['lead_owner_high'] = 0\n",
    "test['lead_owner_high'] = 0\n",
    "\n",
    "train.loc[train['lead_owner'].isin(\n",
    "    [368, 499, 608, 147, 152, 371, 448, 375, 438, 437, 372, 501, 839, 158, 585, 4, 603]), 'lead_owner_high'] = 1\n",
    "test.loc[test['lead_owner'].isin(\n",
    "    [368, 499, 608, 147, 152, 371, 448, 375, 438, 437, 372, 501, 839, 158, 585, 4, 603]), 'lead_owner_high'] = 1"
   ],
   "metadata": {
    "collapsed": false,
    "ExecuteTime": {
     "end_time": "2024-02-15T07:02:52.480984800Z",
     "start_time": "2024-02-15T07:02:52.468403900Z"
    }
   },
   "id": "b4935a1f7d0ed546",
   "execution_count": 79
  },
  {
   "cell_type": "code",
   "outputs": [],
   "source": [
    "# plot_top_categories_conversion_rate(train, 'country', 'is_converted', 0, 10)"
   ],
   "metadata": {
    "collapsed": false,
    "ExecuteTime": {
     "end_time": "2024-02-15T12:41:09.716605200Z",
     "start_time": "2024-02-15T12:41:09.703321500Z"
    }
   },
   "id": "7110da827c5a1ccc",
   "execution_count": 157
  },
  {
   "cell_type": "code",
   "outputs": [],
   "source": [
    "train['customer_idx_row'] = 0\n",
    "test['customer_idx_row'] = 0\n",
    "\n",
    "train.loc[train['customer_idx'].isin([\n",
    "    47466, 37680, 21321, 4936, 32240, 25309, 19804, 40491,\n",
    "    42067, 37657, 31864, 33773, 37399, 40344, 7195, 18030,\n",
    "    33334, 7810, 33350, 16590, 742, 9624\n",
    "]), 'customer_idx_row'] = 1\n",
    "test.loc[test['customer_idx'].isin([\n",
    "    47466, 37680, 21321, 4936, 32240, 25309, 19804, 40491,\n",
    "    42067, 37657, 31864, 33773, 37399, 40344, 7195, 18030,\n",
    "    33334, 7810, 33350, 16590, 742, 9624\n",
    "]), 'customer_idx_row'] = 1"
   ],
   "metadata": {
    "collapsed": false,
    "ExecuteTime": {
     "end_time": "2024-02-15T07:02:52.506677300Z",
     "start_time": "2024-02-15T07:02:52.486820500Z"
    }
   },
   "id": "994a94238062b9d7",
   "execution_count": 81
  },
  {
   "cell_type": "code",
   "outputs": [],
   "source": [
    "# train['owner_avg_hist'] = train.groupby('lead_owner')['historical_existing_cnt'].transform('mean')\n",
    "# test['owner_avg_hist'] = test.groupby('lead_owner')['historical_existing_cnt'].transform('mean')\n",
    "\n",
    "train['desc_length_category'] = pd.cut(train['lead_desc_length'], bins=[0, 50, 150, 300, 450, np.inf],\n",
    "                                       labels=[0, 1, 2, 3, 4])\n",
    "test['desc_length_category'] = pd.cut(test['lead_desc_length'], bins=[0, 50, 150, 300, 450, np.inf],\n",
    "                                      labels=[0, 1, 2, 3, 4])\n",
    "\n",
    "train['desc_length_avg_win'] = train.groupby('desc_length_category')['ver_win_rate_x'].transform('mean')\n",
    "test['desc_length_avg_win'] = test.groupby('desc_length_category')['ver_win_rate_x'].transform('mean')\n",
    "# \n",
    "# train['business_area_avg_hist'] = train.groupby('business_area')['historical_existing_cnt'].transform('mean')\n",
    "# test['business_area_avg_hist'] = test.groupby('business_area')['historical_existing_cnt'].transform('mean')\n",
    "# \n",
    "# train['enterprise_avg_hist'] = train.groupby('enterprise')['historical_existing_cnt'].transform('mean')\n",
    "# test['enterprise_avg_hist'] = test.groupby('enterprise')['historical_existing_cnt'].transform('mean')\n",
    "# \n",
    "# train['corp_avg_hist'] = train.groupby('response_corporate')['historical_existing_cnt'].transform('mean')\n",
    "# test['corp_avg_hist'] = test.groupby('response_corporate')['historical_existing_cnt'].transform('mean')\n",
    "\n",
    "# train['country_avg_hist'] = train.groupby('country')['historical_existing_cnt'].transform('mean')\n",
    "# test['country_avg_hist'] = test.groupby('country')['historical_existing_cnt'].transform('mean')"
   ],
   "metadata": {
    "collapsed": false,
    "ExecuteTime": {
     "end_time": "2024-02-15T13:00:03.448876200Z",
     "start_time": "2024-02-15T13:00:03.442217600Z"
    }
   },
   "id": "18a8d3353027eed4",
   "execution_count": 267
  },
  {
   "cell_type": "code",
   "outputs": [],
   "source": [
    "train.to_csv('../Database/test/train_before_encoding.csv')\n",
    "test.to_csv('../Database/test/test_before_encoding.csv')"
   ],
   "metadata": {
    "collapsed": false,
    "ExecuteTime": {
     "end_time": "2024-02-15T13:00:04.549823900Z",
     "start_time": "2024-02-15T13:00:03.658715500Z"
    }
   },
   "id": "6a7e66221c020afe",
   "execution_count": 268
  },
  {
   "cell_type": "markdown",
   "source": [
    "# Encoding Categories"
   ],
   "metadata": {
    "collapsed": false
   },
   "id": "ea414df9363740f0"
  },
  {
   "cell_type": "code",
   "outputs": [],
   "source": [
    "train = pd.read_csv('../Database/test/train_before_encoding.csv', index_col=0)\n",
    "test = pd.read_csv('../Database/test/test_before_encoding.csv', index_col=0)\n",
    "\n",
    "continuous_list = ['com_reg_ver_win_rate', 'ver_win_ratio_per_bu', 'ver_win_rate_x', 'historical_existing_cnt',\n",
    "                   'lead_desc_length']\n",
    "\n",
    "weight_list = ['ver_cus', 'ver_pro', 'id_strategic_ver', 'it_strategic_ver', 'idit_strategic_ver']"
   ],
   "metadata": {
    "collapsed": false,
    "ExecuteTime": {
     "end_time": "2024-02-15T13:00:04.750342900Z",
     "start_time": "2024-02-15T13:00:04.551824400Z"
    }
   },
   "id": "e048565f3c9e5a53",
   "execution_count": 269
  },
  {
   "cell_type": "code",
   "outputs": [],
   "source": [
    "discrete_list = [item for item in discrete_list if item not in weight_list]\n",
    "discrete_list.append('desc_length_category')"
   ],
   "metadata": {
    "collapsed": false,
    "ExecuteTime": {
     "end_time": "2024-02-15T13:00:04.865079800Z",
     "start_time": "2024-02-15T13:00:04.853662900Z"
    }
   },
   "id": "299216594e5f013f",
   "execution_count": 270
  },
  {
   "cell_type": "code",
   "outputs": [],
   "source": [
    "train_Copy = copy.deepcopy(train)\n",
    "test_Copy = copy.deepcopy(test)"
   ],
   "metadata": {
    "collapsed": false,
    "ExecuteTime": {
     "end_time": "2024-02-15T13:00:05.277018500Z",
     "start_time": "2024-02-15T13:00:05.269060800Z"
    }
   },
   "id": "727da3c80b2dc728",
   "execution_count": 271
  },
  {
   "cell_type": "code",
   "outputs": [],
   "source": [
    "target_encoder1 = TargetEncoder(smoothing=10)\n",
    "target_encoder2 = TargetEncoder(smoothing=10)\n",
    "# discrete_list.remove('desc_length_category')\n",
    "\n",
    "smoothing1_list = ['country', 'lead_owner']\n",
    "smoothing2_list = [item for item in discrete_list if item not in smoothing1_list]\n",
    "\n",
    "for col in smoothing1_list:\n",
    "    train_Copy[col] = target_encoder1.fit_transform(train_Copy[col].astype('category'), train['is_converted'])\n",
    "    test_Copy[col] = target_encoder1.transform(test_Copy[col].astype('category'))\n",
    "\n",
    "for col in smoothing2_list:\n",
    "    train_Copy[col] = target_encoder2.fit_transform(train_Copy[col].astype('category'), train['is_converted'])\n",
    "    test_Copy[col] = target_encoder2.transform(test_Copy[col].astype('category'))"
   ],
   "metadata": {
    "collapsed": false,
    "ExecuteTime": {
     "end_time": "2024-02-15T13:00:06.443823100Z",
     "start_time": "2024-02-15T13:00:05.762619700Z"
    }
   },
   "id": "b6a26691ccbf4d67",
   "execution_count": 272
  },
  {
   "cell_type": "code",
   "outputs": [],
   "source": [
    "train_Copy['high_customer_idx'] = (train_Copy['customer_idx'] >= 0.98).astype(int)\n",
    "train_Copy['high_lead_owner'] = (train_Copy['lead_owner'] >= 0.98).astype(int)\n",
    "\n",
    "train_Copy['low_customer_idx'] = (train_Copy['customer_idx'] <= 0.0001).astype(int)\n",
    "train_Copy['low_lead_owner'] = (train_Copy['lead_owner'] <= 0.0001).astype(int)\n",
    "\n",
    "test_Copy['high_customer_idx'] = (test_Copy['customer_idx'] >= 0.98).astype(int)\n",
    "test_Copy['high_lead_owner'] = (test_Copy['lead_owner'] >= 0.98).astype(int)\n",
    "\n",
    "test_Copy['low_customer_idx'] = (test_Copy['customer_idx'] <= 0.0001).astype(int)\n",
    "test_Copy['low_lead_owner'] = (test_Copy['lead_owner'] <= 0.0001).astype(int)"
   ],
   "metadata": {
    "collapsed": false,
    "ExecuteTime": {
     "end_time": "2024-02-15T13:00:06.999061Z",
     "start_time": "2024-02-15T13:00:06.992327400Z"
    }
   },
   "id": "ae576736f144f630",
   "execution_count": 273
  },
  {
   "cell_type": "code",
   "outputs": [],
   "source": [
    "train.drop(columns=['idit_strategic_ver'], inplace=True)\n",
    "test.drop(columns=['idit_strategic_ver'], inplace=True)"
   ],
   "metadata": {
    "collapsed": false
   },
   "id": "c9ecb4e6398139cf",
   "execution_count": 239
  },
  {
   "cell_type": "code",
   "outputs": [],
   "source": [
    "train_Copy.to_csv('../Database/test/train_k.csv')\n",
    "test_Copy.to_csv('../Database/test/test_k.csv')"
   ],
   "metadata": {
    "collapsed": false,
    "ExecuteTime": {
     "end_time": "2024-02-15T13:00:09.425964100Z",
     "start_time": "2024-02-15T13:00:07.578657500Z"
    }
   },
   "id": "7c786bda7d657b7f",
   "execution_count": 274
  }
 ],
 "metadata": {
  "kernelspec": {
   "display_name": "Python 3",
   "language": "python",
   "name": "python3"
  },
  "language_info": {
   "codemirror_mode": {
    "name": "ipython",
    "version": 2
   },
   "file_extension": ".py",
   "mimetype": "text/x-python",
   "name": "python",
   "nbconvert_exporter": "python",
   "pygments_lexer": "ipython2",
   "version": "2.7.6"
  }
 },
 "nbformat": 4,
 "nbformat_minor": 5
}
