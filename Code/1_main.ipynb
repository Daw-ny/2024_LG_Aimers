{
 "cells": [
  {
   "cell_type": "code",
   "execution_count": 82,
   "outputs": [],
   "source": [
    "from utils.ETC import *\n",
    "from sklearn.utils import resample\n",
    "from xgboost import XGBClassifier\n",
    "from lightgbm import LGBMClassifier\n",
    "from catboost import CatBoostClassifier\n",
    "from sklearn.ensemble import VotingClassifier\n",
    "from sklearn.tree import DecisionTreeClassifier\n",
    "from imblearn.combine import SMOTETomek\n",
    "from imblearn.under_sampling import TomekLinks\n",
    "from imblearn.over_sampling import SMOTE, ADASYN\n",
    "from sklearn.model_selection import train_test_split\n",
    "\n",
    "import os\n",
    "import optuna\n",
    "import warnings\n",
    "import pandas as pd\n",
    "\n",
    "os.environ['KMP_DUPLICATE_LIB_OK'] = 'True'\n",
    "warnings.filterwarnings(\"ignore\", category=FutureWarning)"
   ],
   "metadata": {
    "collapsed": false,
    "ExecuteTime": {
     "end_time": "2024-02-16T11:08:42.094238200Z",
     "start_time": "2024-02-16T11:08:42.090733500Z"
    }
   },
   "id": "7f6b6806265a7e12"
  },
  {
   "cell_type": "markdown",
   "source": [
    "# Load Data"
   ],
   "metadata": {
    "collapsed": false
   },
   "id": "363a34a0d59fd466"
  },
  {
   "cell_type": "code",
   "outputs": [],
   "source": [
    "train = pd.read_csv(\"../Database/test/train_k.csv\", index_col=0)\n",
    "test = pd.read_csv(\"../Database/test/test_k.csv\", index_col=0)\n",
    "# train = pd.read_csv('../Database/train_optimal.csv', index_col=0)\n",
    "# test = pd.read_csv('../Database/test_optimal.csv', index_col=0)\n",
    "test.drop(columns=['is_converted'], inplace=True)\n",
    "train.drop(columns=['idit_strategic_ver'], inplace=True)\n",
    "test.drop(columns=['idit_strategic_ver'], inplace=True)"
   ],
   "metadata": {
    "collapsed": false,
    "ExecuteTime": {
     "end_time": "2024-02-16T12:40:48.184514900Z",
     "start_time": "2024-02-16T12:40:47.964143Z"
    }
   },
   "id": "7feadd570e7b1802",
   "execution_count": 115
  },
  {
   "cell_type": "markdown",
   "source": [
    "# Sampling"
   ],
   "metadata": {
    "collapsed": false
   },
   "id": "667337f2cf140078"
  },
  {
   "cell_type": "code",
   "outputs": [],
   "source": [
    "X = train.drop(columns=['is_converted'])\n",
    "y = train['is_converted']\n",
    "X_train, X_test, y_train, y_test = train_test_split(X, y, test_size=0.2, random_state=42)\n",
    "minority_indexes = np.where(y_train == 1)[0]\n",
    "\n",
    "smoteto = SMOTETomek(tomek=TomekLinks(sampling_strategy='majority'), random_state=42)\n",
    "X_train, y_train = smoteto.fit_resample(X_train, y_train)"
   ],
   "metadata": {
    "collapsed": false,
    "ExecuteTime": {
     "end_time": "2024-02-16T11:01:19.503386100Z",
     "start_time": "2024-02-16T11:01:19.492745500Z"
    }
   },
   "id": "f0a3c281b122bf6d",
   "execution_count": 45
  },
  {
   "cell_type": "code",
   "outputs": [],
   "source": [
    "smote = SMOTE(random_state=42)\n",
    "X_smote, y_smote = smote.fit_resample(X_train, y_train)\n",
    "\n",
    "adasyn = ADASYN(random_state=42)\n",
    "X_adasyn, y_adasyn = adasyn.fit_resample(X_train, y_train)\n",
    "\n",
    "smoteto = SMOTETomek(tomek=TomekLinks(sampling_strategy='majority'), random_state=42)\n",
    "X_smoteto, y_smoteto = smoteto.fit_resample(X_train, y_train)"
   ],
   "metadata": {
    "collapsed": false,
    "ExecuteTime": {
     "end_time": "2024-02-16T11:46:49.449902100Z",
     "start_time": "2024-02-16T11:46:34.221752300Z"
    }
   },
   "id": "2b9e1aff712997f7",
   "execution_count": 98
  },
  {
   "cell_type": "code",
   "outputs": [],
   "source": [
    "smote_data = pd.concat([X_smote, y_smote], axis=1)\n",
    "smote_data = smote_data[smote_data['is_converted'] == True & (~smote_data.index.isin(minority_indexes))]\n",
    "\n",
    "adasyn_data = pd.concat([X_adasyn, y_adasyn], axis=1)\n",
    "adasyn_data = adasyn_data[adasyn_data['is_converted'] == True & (~adasyn_data.index.isin(minority_indexes))]\n",
    "\n",
    "smoteto_data = pd.concat([X_smoteto, y_smoteto], axis=1)\n",
    "# smoteto_data = smoteto_data[smoteto_data['is_converted'] == True & (~smoteto_data.index.isin(minority_indexes))]"
   ],
   "metadata": {
    "collapsed": false,
    "ExecuteTime": {
     "end_time": "2024-02-16T11:48:55.335477Z",
     "start_time": "2024-02-16T11:48:55.270397100Z"
    }
   },
   "id": "602755cdc280be3c",
   "execution_count": 103
  },
  {
   "cell_type": "code",
   "outputs": [],
   "source": [
    "synthetic_data = pd.concat([smote_data, adasyn_data], axis=0)\n",
    "synthetic_data = resample(synthetic_data, replace=True, n_samples=40000, random_state=123)"
   ],
   "metadata": {
    "collapsed": false
   },
   "id": "53babfbf78c66a57",
   "execution_count": 218
  },
  {
   "cell_type": "code",
   "outputs": [],
   "source": [
    "X_syn = synthetic_data.drop(columns=['is_converted'])\n",
    "y_syn = synthetic_data['is_converted']\n",
    "\n",
    "X_train = pd.concat([X_train, X_syn], axis=0)\n",
    "y_train = pd.concat([y_train, y_syn], axis=0)"
   ],
   "metadata": {
    "collapsed": false
   },
   "id": "57478dee5425352d",
   "execution_count": 219
  },
  {
   "cell_type": "code",
   "outputs": [],
   "source": [
    "# class_counts = y_train.value_counts()\n",
    "# set(class_counts.index)\n",
    "# plt.pie(class_counts, labels=class_counts.index, startangle=140, autopct='%1.1f%%')\n",
    "# plt.axis('equal')\n",
    "# plt.title('Class Distribution')\n",
    "# plt.show()"
   ],
   "metadata": {
    "collapsed": false
   },
   "id": "cdf9927268a5150c",
   "execution_count": 220
  },
  {
   "cell_type": "code",
   "outputs": [],
   "source": [
    "true_data = train[train['is_converted'] == True]\n",
    "bootstrap_sample = resample(true_data, replace=True, n_samples=20000, random_state=123)"
   ],
   "metadata": {
    "collapsed": false,
    "ExecuteTime": {
     "end_time": "2024-02-16T11:08:21.190568400Z",
     "start_time": "2024-02-16T11:08:21.172209600Z"
    }
   },
   "id": "e39205ba3f2bab5f",
   "execution_count": 80
  },
  {
   "cell_type": "markdown",
   "source": [
    "# Model Test"
   ],
   "metadata": {
    "collapsed": false
   },
   "id": "da5381ae89eb5965"
  },
  {
   "cell_type": "code",
   "execution_count": 114,
   "outputs": [
    {
     "name": "stdout",
     "output_type": "stream",
     "text": [
      "[LightGBM] [Warning] Unknown parameter: eval_metric\n",
      "[LightGBM] [Warning] min_data_in_leaf is set=13, min_child_samples=20 will be ignored. Current value: min_data_in_leaf=13\n",
      "[LightGBM] [Warning] Unknown parameter: eval_metric\n",
      "[LightGBM] [Warning] min_data_in_leaf is set=13, min_child_samples=20 will be ignored. Current value: min_data_in_leaf=13\n",
      "[LightGBM] [Info] Number of positive: 43865, number of negative: 43574\n",
      "[LightGBM] [Info] Auto-choosing row-wise multi-threading, the overhead of testing was 0.044903 seconds.\n",
      "You can set `force_row_wise=true` to remove the overhead.\n",
      "And if memory is not enough, you can set `force_col_wise=true`.\n",
      "[LightGBM] [Info] Total Bins 6576\n",
      "[LightGBM] [Info] Number of data points in the train set: 87439, number of used features: 32\n",
      "[LightGBM] [Info] [binary:BoostFromScore]: pavg=0.501664 -> initscore=0.006656\n",
      "[LightGBM] [Info] Start training from score 0.006656\n",
      "[LightGBM] [Warning] Unknown parameter: eval_metric\n",
      "[LightGBM] [Warning] min_data_in_leaf is set=13, min_child_samples=20 will be ignored. Current value: min_data_in_leaf=13\n",
      "오차행렬:\n",
      " [[  817   168]\n",
      " [  160 10715]]\n",
      "\n",
      "정확도: 0.9723\n",
      "정밀도: 0.8362\n",
      "재현율: 0.8294\n",
      "F1: 0.8328\n",
      "[LightGBM] [Warning] Unknown parameter: eval_metric\n",
      "[LightGBM] [Warning] min_data_in_leaf is set=13, min_child_samples=20 will be ignored. Current value: min_data_in_leaf=13\n",
      "1845\n"
     ]
    }
   ],
   "source": [
    "params = {\n",
    "    'device': 'cpu',\n",
    "    'boosting_type': 'gbrt',\n",
    "    'objective': 'binary',\n",
    "    'eval_metric': 'F1',\n",
    "\n",
    "    'learning_rate': 0.1148568499042726,\n",
    "    'max_depth': 19,\n",
    "    'num_leaves': 178,\n",
    "    'min_data_in_leaf': 13,\n",
    "    'subsample': 0.5393283096351735,\n",
    "    'colsample_bytree': 0.950543867059109,\n",
    "}\n",
    "\n",
    "model_lgbm = LGBMClassifier(**params)\n",
    "\n",
    "model_lgbm.fit(X_train, y_train)\n",
    "y_pred_lgbm = model_lgbm.predict(X_test)\n",
    "get_clf_eval(y_test, y_pred_lgbm)\n",
    "\n",
    "test_pred = model_lgbm.predict(test)\n",
    "print(sum(test_pred))"
   ],
   "metadata": {
    "collapsed": false,
    "ExecuteTime": {
     "end_time": "2024-02-16T12:39:14.466946500Z",
     "start_time": "2024-02-16T12:39:08.185753100Z"
    }
   },
   "id": "43061c14214f1787"
  },
  {
   "cell_type": "code",
   "outputs": [
    {
     "name": "stdout",
     "output_type": "stream",
     "text": [
      "오차행렬:\n",
      " [[  804   181]\n",
      " [  175 10700]]\n",
      "\n",
      "정확도: 0.9700\n",
      "정밀도: 0.8212\n",
      "재현율: 0.8162\n",
      "F1: 0.8187\n",
      "1849\n"
     ]
    }
   ],
   "source": [
    "params = {\n",
    "    'device': 'cuda',\n",
    "    'booster': 'gbtree',\n",
    "    'objective': 'binary:logistic',\n",
    "    'eval_metric': 'auc',\n",
    "\n",
    "    'learning_rate': 0.07256481766178394,\n",
    "    'max_depth': 7,\n",
    "    'gamma': 0.00029770223602020355,\n",
    "    'alpha': 2.0170328774959357e-05,\n",
    "}\n",
    "\n",
    "model_xgb = XGBClassifier(**params)\n",
    "\n",
    "model_xgb.fit(X_train, y_train)\n",
    "y_pred_xgb = model_xgb.predict(X_test)\n",
    "get_clf_eval(y_test, y_pred_xgb)\n",
    "\n",
    "test_pred = model_xgb.predict(test)\n",
    "print(sum(test_pred))"
   ],
   "metadata": {
    "collapsed": false
   },
   "id": "b78cdd0e4700a08c",
   "execution_count": 111
  },
  {
   "cell_type": "code",
   "execution_count": 11,
   "outputs": [
    {
     "name": "stdout",
     "output_type": "stream",
     "text": [
      "오차행렬:\n",
      " [[  817   168]\n",
      " [  320 10555]]\n",
      "\n",
      "정확도: 0.9589\n",
      "정밀도: 0.7186\n",
      "재현율: 0.8294\n",
      "F1: 0.7700\n",
      "1759\n"
     ]
    }
   ],
   "source": [
    "params = {\n",
    "    'task_type': 'GPU',\n",
    "    'boosting_type': 'Plain',\n",
    "    'loss_function': 'Logloss',\n",
    "    'eval_metric': 'F1',\n",
    "    'grow_policy': 'Lossguide',\n",
    "    'bootstrap_type': 'Bayesian',\n",
    "\n",
    "    'learning_rate': 0.48519406235345247,\n",
    "    'depth': 17,\n",
    "    'l2_leaf_reg': 4,\n",
    "    'num_leaves': 266,\n",
    "    'border_count': 207,\n",
    "}\n",
    "\n",
    "model_catboost = CatBoostClassifier(**params)\n",
    "\n",
    "model_catboost.fit(X_train, y_train)\n",
    "y_pred_catboost = model_catboost.predict(X_test)\n",
    "y_pred_catboost = [eval(pred) for pred in y_pred_catboost]\n",
    "get_clf_eval(y_test, y_pred_catboost)\n",
    "\n",
    "test_pred = model_catboost.predict(test)\n",
    "test_pred = [eval(pred) for pred in test_pred]\n",
    "print(sum(test_pred))"
   ],
   "metadata": {
    "collapsed": false,
    "ExecuteTime": {
     "end_time": "2024-02-15T13:24:37.542595800Z",
     "start_time": "2024-02-15T13:24:27.794320300Z"
    }
   },
   "id": "e43f34a5d3048eee"
  },
  {
   "cell_type": "code",
   "execution_count": 13,
   "outputs": [
    {
     "name": "stdout",
     "output_type": "stream",
     "text": [
      "[LightGBM] [Info] Number of positive: 43574, number of negative: 43574\n",
      "[LightGBM] [Info] Auto-choosing row-wise multi-threading, the overhead of testing was 0.007154 seconds.\n",
      "You can set `force_row_wise=true` to remove the overhead.\n",
      "And if memory is not enough, you can set `force_col_wise=true`.\n",
      "[LightGBM] [Info] Total Bins 6527\n",
      "[LightGBM] [Info] Number of data points in the train set: 87148, number of used features: 32\n",
      "[LightGBM] [Info] [binary:BoostFromScore]: pavg=0.500000 -> initscore=0.000000\n",
      "오차행렬:\n",
      " [[  818   167]\n",
      " [  186 10689]]\n",
      "\n",
      "정확도: 0.9702\n",
      "정밀도: 0.8147\n",
      "재현율: 0.8305\n",
      "F1: 0.8225\n",
      "2248\n"
     ]
    }
   ],
   "source": [
    "classifiers = [\n",
    "    ('lgbm', model_lgbm),\n",
    "    ('xgb', model_xgb),\n",
    "    ('catboost', model_catboost),\n",
    "]\n",
    "\n",
    "weights = [1, 2, 2]\n",
    "ensemble_model = VotingClassifier(estimators=classifiers, voting='soft', weights=weights)\n",
    "\n",
    "ensemble_model.fit(X_train, y_train)\n",
    "y_pred_ensemble = ensemble_model.predict(X_test)\n",
    "get_clf_eval(y_test, y_pred_ensemble)\n",
    "\n",
    "test_pred = ensemble_model.predict(test)\n",
    "print(sum(test_pred))"
   ],
   "metadata": {
    "collapsed": false,
    "ExecuteTime": {
     "end_time": "2024-02-15T13:25:01.981170100Z",
     "start_time": "2024-02-15T13:24:47.040971400Z"
    }
   },
   "id": "737647bfa8a9bdec"
  }
 ],
 "metadata": {
  "kernelspec": {
   "display_name": "Python 3",
   "language": "python",
   "name": "python3"
  },
  "language_info": {
   "codemirror_mode": {
    "name": "ipython",
    "version": 2
   },
   "file_extension": ".py",
   "mimetype": "text/x-python",
   "name": "python",
   "nbconvert_exporter": "python",
   "pygments_lexer": "ipython2",
   "version": "2.7.6"
  }
 },
 "nbformat": 4,
 "nbformat_minor": 5
}
